{
 "cells": [
  {
   "cell_type": "code",
   "execution_count": 1,
   "id": "358af690",
   "metadata": {},
   "outputs": [],
   "source": [
    "import os\n",
    "import json\n",
    "import numpy as np\n",
    "import pandas as pd\n",
    "from ydata_profiling import ProfileReport"
   ]
  },
  {
   "cell_type": "code",
   "execution_count": 2,
   "id": "388725ac",
   "metadata": {},
   "outputs": [],
   "source": [
    "from IPython.display import display, HTML\n",
    "import warnings"
   ]
  },
  {
   "cell_type": "code",
   "execution_count": 3,
   "id": "37c2fd7a",
   "metadata": {},
   "outputs": [
    {
     "data": {
      "text/html": [
       "<style>.container { width:100% !important; }</style>"
      ],
      "text/plain": [
       "<IPython.core.display.HTML object>"
      ]
     },
     "metadata": {},
     "output_type": "display_data"
    }
   ],
   "source": [
    "display(HTML(\"<style>.container { width:100% !important; }</style>\"))\n",
    "warnings.filterwarnings('ignore')\n",
    "pd.options.display.float_format = \"{:.2f}\".format"
   ]
  },
  {
   "cell_type": "code",
   "execution_count": 4,
   "id": "65a0dab5",
   "metadata": {},
   "outputs": [],
   "source": [
    "INPUT = 'przetwarzanie_faktur_zadanie.csv'"
   ]
  },
  {
   "cell_type": "code",
   "execution_count": 5,
   "id": "5622f6b1",
   "metadata": {},
   "outputs": [],
   "source": [
    "CONFIG = 'config.json'"
   ]
  },
  {
   "cell_type": "code",
   "execution_count": 6,
   "id": "700a0638",
   "metadata": {},
   "outputs": [
    {
     "name": "stdout",
     "output_type": "stream",
     "text": [
      "C:\\Users\\KonuTech\\PycharmProjects\\yet-another-analysis\\INPUTS\\przetwarzanie_faktur_zadanie.csv\n"
     ]
    }
   ],
   "source": [
    "# Get the absolute path of the file within the INPUTS directory\n",
    "FILE_PATH = os.path.join(os.getcwd(), 'INPUTS', INPUT)\n",
    "\n",
    "# Print the file path\n",
    "print(FILE_PATH)"
   ]
  },
  {
   "cell_type": "code",
   "execution_count": 7,
   "id": "6f6ba24f",
   "metadata": {},
   "outputs": [
    {
     "name": "stdout",
     "output_type": "stream",
     "text": [
      "C:\\Users\\KonuTech\\PycharmProjects\\yet-another-analysis\\CONFIGS\\config.json\n"
     ]
    }
   ],
   "source": [
    "# Get the absolute path of the config within the CONFIGS directory\n",
    "CONFIG_PATH = os.path.join(os.getcwd(), 'CONFIGS', CONFIG)\n",
    "\n",
    "# Print the fileconfig_pathpath\n",
    "print(CONFIG_PATH)"
   ]
  },
  {
   "cell_type": "code",
   "execution_count": 8,
   "id": "58298b71",
   "metadata": {},
   "outputs": [],
   "source": [
    "with open(CONFIG_PATH, encoding='utf-8') as f:\n",
    "    CONFIG = json.load(f)"
   ]
  },
  {
   "cell_type": "code",
   "execution_count": 9,
   "id": "fd4ae10b",
   "metadata": {},
   "outputs": [],
   "source": [
    "INDEX_COL = CONFIG[\"INPUTS\"][\"INDEX_COLUMNS\"]\n",
    "SEP = CONFIG[\"INPUTS\"][\"SEPARATOR\"]\n",
    "# DECIMAL = CONFIG[\"INPUTS\"][\"DECIMAL\"]\n",
    "ENCODING = CONFIG[\"INPUTS\"][\"ENCODING\"]\n",
    "DATE_COLUMNS = CONFIG[\"INPUTS\"][\"DATE_COLUMNS\"]\n",
    "# FLOAT_PRECISION = CONFIG[\"INPUTS\"][\"FLOAT_PRECISION\"]\n",
    "DTYPE = CONFIG[\"INPUTS\"][\"DTYPE\"]\n",
    "COLUMNS_WITH_NAN_VALUES = CONFIG[\"INPUTS\"][\"COLUMNS_WITH_NAN_VALUES\"]\n",
    "# # X_ORDER = CONFIG[\"X_ORDER\"]\n",
    "# HUE_ORDER = CONFIG[\"HUE_ORDER\"]\n",
    "# COL_ORDER = CONFIG[\"COL_ORDER\"]"
   ]
  },
  {
   "cell_type": "code",
   "execution_count": 10,
   "id": "6153eb6d",
   "metadata": {},
   "outputs": [
    {
     "data": {
      "text/plain": [
       "['ID_Process', 'ID_Document']"
      ]
     },
     "execution_count": 10,
     "metadata": {},
     "output_type": "execute_result"
    }
   ],
   "source": [
    "INDEX_COL"
   ]
  },
  {
   "cell_type": "code",
   "execution_count": 11,
   "id": "62c8b703",
   "metadata": {},
   "outputs": [
    {
     "data": {
      "text/plain": [
       "';'"
      ]
     },
     "execution_count": 11,
     "metadata": {},
     "output_type": "execute_result"
    }
   ],
   "source": [
    "SEP"
   ]
  },
  {
   "cell_type": "code",
   "execution_count": 12,
   "id": "fcfcb5cb",
   "metadata": {},
   "outputs": [
    {
     "data": {
      "text/plain": [
       "'utf-8'"
      ]
     },
     "execution_count": 12,
     "metadata": {},
     "output_type": "execute_result"
    }
   ],
   "source": [
    "ENCODING"
   ]
  },
  {
   "cell_type": "code",
   "execution_count": 13,
   "id": "e86414c4",
   "metadata": {},
   "outputs": [
    {
     "data": {
      "text/plain": [
       "['StartDateTimeUtc']"
      ]
     },
     "execution_count": 13,
     "metadata": {},
     "output_type": "execute_result"
    }
   ],
   "source": [
    "DATE_COLUMNS"
   ]
  },
  {
   "cell_type": "code",
   "execution_count": 14,
   "id": "a860cfa5",
   "metadata": {},
   "outputs": [
    {
     "data": {
      "text/plain": [
       "{'ID_Process': 'object',\n",
       " 'ID_Document': 'object',\n",
       " 'Queue': 'object',\n",
       " 'ProcessingDuration': 'int64',\n",
       " 'Duration': 'int64',\n",
       " 'InputPageCount': 'int64',\n",
       " 'MessagesInQueue': 'int64',\n",
       " 'Retries': 'int64'}"
      ]
     },
     "execution_count": 14,
     "metadata": {},
     "output_type": "execute_result"
    }
   ],
   "source": [
    "DTYPE"
   ]
  },
  {
   "cell_type": "code",
   "execution_count": 15,
   "id": "1ad22418",
   "metadata": {},
   "outputs": [
    {
     "data": {
      "text/plain": [
       "['Duration']"
      ]
     },
     "execution_count": 15,
     "metadata": {},
     "output_type": "execute_result"
    }
   ],
   "source": [
    "COLUMNS_WITH_NAN_VALUES"
   ]
  },
  {
   "cell_type": "code",
   "execution_count": 16,
   "id": "b5c6f750",
   "metadata": {},
   "outputs": [],
   "source": [
    "df = pd.read_csv(\n",
    "    filepath_or_buffer=FILE_PATH,\n",
    "    index_col=INDEX_COL,\n",
    "    sep=SEP,\n",
    "    encoding=ENCODING,\n",
    "    engine=\"c\",\n",
    "    low_memory=False,\n",
    "    parse_dates=DATE_COLUMNS,\n",
    "#     dtype=DTYPE\n",
    ")"
   ]
  },
  {
   "cell_type": "code",
   "execution_count": 17,
   "id": "98bed444",
   "metadata": {},
   "outputs": [
    {
     "name": "stdout",
     "output_type": "stream",
     "text": [
      "<class 'pandas.core.frame.DataFrame'>\n",
      "MultiIndex: 1121190 entries, (2299375, 2270386.0) to (272829, 11148.0)\n",
      "Data columns (total 7 columns):\n",
      " #   Column              Non-Null Count    Dtype         \n",
      "---  ------              --------------    -----         \n",
      " 0   Queue               1107824 non-null  object        \n",
      " 1   ProcessingDuration  1085406 non-null  float64       \n",
      " 2   Duration            1080011 non-null  float64       \n",
      " 3   InputPageCount      1085406 non-null  float64       \n",
      " 4   MessagesInQueue     1121190 non-null  int64         \n",
      " 5   Retries             1121190 non-null  int64         \n",
      " 6   StartDateTimeUtc    1121190 non-null  datetime64[ns]\n",
      "dtypes: datetime64[ns](1), float64(3), int64(2), object(1)\n",
      "memory usage: 149.9+ MB\n"
     ]
    }
   ],
   "source": [
    "df.info()"
   ]
  },
  {
   "cell_type": "code",
   "execution_count": 18,
   "id": "83cf8262",
   "metadata": {},
   "outputs": [
    {
     "data": {
      "text/html": [
       "<div>\n",
       "<style scoped>\n",
       "    .dataframe tbody tr th:only-of-type {\n",
       "        vertical-align: middle;\n",
       "    }\n",
       "\n",
       "    .dataframe tbody tr th {\n",
       "        vertical-align: top;\n",
       "    }\n",
       "\n",
       "    .dataframe thead th {\n",
       "        text-align: right;\n",
       "    }\n",
       "</style>\n",
       "<table border=\"1\" class=\"dataframe\">\n",
       "  <thead>\n",
       "    <tr style=\"text-align: right;\">\n",
       "      <th></th>\n",
       "      <th></th>\n",
       "      <th>Queue</th>\n",
       "      <th>ProcessingDuration</th>\n",
       "      <th>Duration</th>\n",
       "      <th>InputPageCount</th>\n",
       "      <th>MessagesInQueue</th>\n",
       "      <th>Retries</th>\n",
       "      <th>StartDateTimeUtc</th>\n",
       "    </tr>\n",
       "    <tr>\n",
       "      <th>ID_Process</th>\n",
       "      <th>ID_Document</th>\n",
       "      <th></th>\n",
       "      <th></th>\n",
       "      <th></th>\n",
       "      <th></th>\n",
       "      <th></th>\n",
       "      <th></th>\n",
       "      <th></th>\n",
       "    </tr>\n",
       "  </thead>\n",
       "  <tbody>\n",
       "    <tr>\n",
       "      <th>2299375</th>\n",
       "      <th>2270386.00</th>\n",
       "      <td>potok_1-1</td>\n",
       "      <td>2583.00</td>\n",
       "      <td>2940.00</td>\n",
       "      <td>1.00</td>\n",
       "      <td>4</td>\n",
       "      <td>0</td>\n",
       "      <td>2023-03-02 12:47:31.880</td>\n",
       "    </tr>\n",
       "    <tr>\n",
       "      <th>202658</th>\n",
       "      <th>245850.00</th>\n",
       "      <td>potok_1-1</td>\n",
       "      <td>5486.00</td>\n",
       "      <td>6626.00</td>\n",
       "      <td>2.00</td>\n",
       "      <td>6</td>\n",
       "      <td>0</td>\n",
       "      <td>2023-02-10 08:33:17.910</td>\n",
       "    </tr>\n",
       "    <tr>\n",
       "      <th>2323656</th>\n",
       "      <th>2304772.00</th>\n",
       "      <td>potok_3-1</td>\n",
       "      <td>2079.00</td>\n",
       "      <td>2606.00</td>\n",
       "      <td>1.00</td>\n",
       "      <td>7</td>\n",
       "      <td>0</td>\n",
       "      <td>2023-03-03 13:35:13.690</td>\n",
       "    </tr>\n",
       "    <tr>\n",
       "      <th>115622</th>\n",
       "      <th>165259.00</th>\n",
       "      <td>potok_1-2</td>\n",
       "      <td>2915.00</td>\n",
       "      <td>3228.00</td>\n",
       "      <td>2.00</td>\n",
       "      <td>1</td>\n",
       "      <td>0</td>\n",
       "      <td>2023-02-15 14:18:19.550</td>\n",
       "    </tr>\n",
       "    <tr>\n",
       "      <th>343261</th>\n",
       "      <th>237985.00</th>\n",
       "      <td>potok_1-1</td>\n",
       "      <td>2480.00</td>\n",
       "      <td>3114.00</td>\n",
       "      <td>1.00</td>\n",
       "      <td>9</td>\n",
       "      <td>0</td>\n",
       "      <td>2023-02-15 07:26:05.317</td>\n",
       "    </tr>\n",
       "  </tbody>\n",
       "</table>\n",
       "</div>"
      ],
      "text/plain": [
       "                            Queue  ProcessingDuration  Duration  \\\n",
       "ID_Process ID_Document                                            \n",
       "2299375    2270386.00   potok_1-1             2583.00   2940.00   \n",
       "202658     245850.00    potok_1-1             5486.00   6626.00   \n",
       "2323656    2304772.00   potok_3-1             2079.00   2606.00   \n",
       "115622     165259.00    potok_1-2             2915.00   3228.00   \n",
       "343261     237985.00    potok_1-1             2480.00   3114.00   \n",
       "\n",
       "                        InputPageCount  MessagesInQueue  Retries  \\\n",
       "ID_Process ID_Document                                             \n",
       "2299375    2270386.00             1.00                4        0   \n",
       "202658     245850.00              2.00                6        0   \n",
       "2323656    2304772.00             1.00                7        0   \n",
       "115622     165259.00              2.00                1        0   \n",
       "343261     237985.00              1.00                9        0   \n",
       "\n",
       "                              StartDateTimeUtc  \n",
       "ID_Process ID_Document                          \n",
       "2299375    2270386.00  2023-03-02 12:47:31.880  \n",
       "202658     245850.00   2023-02-10 08:33:17.910  \n",
       "2323656    2304772.00  2023-03-03 13:35:13.690  \n",
       "115622     165259.00   2023-02-15 14:18:19.550  \n",
       "343261     237985.00   2023-02-15 07:26:05.317  "
      ]
     },
     "execution_count": 18,
     "metadata": {},
     "output_type": "execute_result"
    }
   ],
   "source": [
    "df.head()"
   ]
  },
  {
   "cell_type": "code",
   "execution_count": 19,
   "id": "1477ae90",
   "metadata": {},
   "outputs": [
    {
     "data": {
      "text/html": [
       "<div>\n",
       "<style scoped>\n",
       "    .dataframe tbody tr th:only-of-type {\n",
       "        vertical-align: middle;\n",
       "    }\n",
       "\n",
       "    .dataframe tbody tr th {\n",
       "        vertical-align: top;\n",
       "    }\n",
       "\n",
       "    .dataframe thead th {\n",
       "        text-align: right;\n",
       "    }\n",
       "</style>\n",
       "<table border=\"1\" class=\"dataframe\">\n",
       "  <thead>\n",
       "    <tr style=\"text-align: right;\">\n",
       "      <th></th>\n",
       "      <th></th>\n",
       "      <th>Queue</th>\n",
       "      <th>ProcessingDuration</th>\n",
       "      <th>Duration</th>\n",
       "      <th>InputPageCount</th>\n",
       "      <th>MessagesInQueue</th>\n",
       "      <th>Retries</th>\n",
       "      <th>StartDateTimeUtc</th>\n",
       "    </tr>\n",
       "    <tr>\n",
       "      <th>ID_Process</th>\n",
       "      <th>ID_Document</th>\n",
       "      <th></th>\n",
       "      <th></th>\n",
       "      <th></th>\n",
       "      <th></th>\n",
       "      <th></th>\n",
       "      <th></th>\n",
       "      <th></th>\n",
       "    </tr>\n",
       "  </thead>\n",
       "  <tbody>\n",
       "    <tr>\n",
       "      <th>2627984</th>\n",
       "      <th>2571026.00</th>\n",
       "      <td>potok_3-2</td>\n",
       "      <td>3040.00</td>\n",
       "      <td>3683.00</td>\n",
       "      <td>1.00</td>\n",
       "      <td>2</td>\n",
       "      <td>0</td>\n",
       "      <td>2023-03-13 19:29:07.610</td>\n",
       "    </tr>\n",
       "    <tr>\n",
       "      <th>2492632</th>\n",
       "      <th>2457336.00</th>\n",
       "      <td>potok_3-1</td>\n",
       "      <td>3127.00</td>\n",
       "      <td>3425.00</td>\n",
       "      <td>1.00</td>\n",
       "      <td>6</td>\n",
       "      <td>0</td>\n",
       "      <td>2023-03-09 12:50:04.387</td>\n",
       "    </tr>\n",
       "    <tr>\n",
       "      <th>2771801</th>\n",
       "      <th>2812898.00</th>\n",
       "      <td>potok_3-2</td>\n",
       "      <td>298.00</td>\n",
       "      <td>715.00</td>\n",
       "      <td>2.00</td>\n",
       "      <td>0</td>\n",
       "      <td>0</td>\n",
       "      <td>2023-03-24 07:14:42.087</td>\n",
       "    </tr>\n",
       "    <tr>\n",
       "      <th>2343195</th>\n",
       "      <th>2328046.00</th>\n",
       "      <td>potok_1-2</td>\n",
       "      <td>9247.00</td>\n",
       "      <td>9689.00</td>\n",
       "      <td>1.00</td>\n",
       "      <td>4</td>\n",
       "      <td>0</td>\n",
       "      <td>2023-03-05 21:14:38.007</td>\n",
       "    </tr>\n",
       "    <tr>\n",
       "      <th>272829</th>\n",
       "      <th>11148.00</th>\n",
       "      <td>potok_1-2</td>\n",
       "      <td>74.00</td>\n",
       "      <td>10153.00</td>\n",
       "      <td>3.00</td>\n",
       "      <td>0</td>\n",
       "      <td>0</td>\n",
       "      <td>2023-02-13 10:47:07.257</td>\n",
       "    </tr>\n",
       "  </tbody>\n",
       "</table>\n",
       "</div>"
      ],
      "text/plain": [
       "                            Queue  ProcessingDuration  Duration  \\\n",
       "ID_Process ID_Document                                            \n",
       "2627984    2571026.00   potok_3-2             3040.00   3683.00   \n",
       "2492632    2457336.00   potok_3-1             3127.00   3425.00   \n",
       "2771801    2812898.00   potok_3-2              298.00    715.00   \n",
       "2343195    2328046.00   potok_1-2             9247.00   9689.00   \n",
       "272829     11148.00     potok_1-2               74.00  10153.00   \n",
       "\n",
       "                        InputPageCount  MessagesInQueue  Retries  \\\n",
       "ID_Process ID_Document                                             \n",
       "2627984    2571026.00             1.00                2        0   \n",
       "2492632    2457336.00             1.00                6        0   \n",
       "2771801    2812898.00             2.00                0        0   \n",
       "2343195    2328046.00             1.00                4        0   \n",
       "272829     11148.00               3.00                0        0   \n",
       "\n",
       "                              StartDateTimeUtc  \n",
       "ID_Process ID_Document                          \n",
       "2627984    2571026.00  2023-03-13 19:29:07.610  \n",
       "2492632    2457336.00  2023-03-09 12:50:04.387  \n",
       "2771801    2812898.00  2023-03-24 07:14:42.087  \n",
       "2343195    2328046.00  2023-03-05 21:14:38.007  \n",
       "272829     11148.00    2023-02-13 10:47:07.257  "
      ]
     },
     "execution_count": 19,
     "metadata": {},
     "output_type": "execute_result"
    }
   ],
   "source": [
    "df.tail()"
   ]
  },
  {
   "cell_type": "code",
   "execution_count": 20,
   "id": "d0da5659",
   "metadata": {},
   "outputs": [
    {
     "data": {
      "text/html": [
       "<div>\n",
       "<style scoped>\n",
       "    .dataframe tbody tr th:only-of-type {\n",
       "        vertical-align: middle;\n",
       "    }\n",
       "\n",
       "    .dataframe tbody tr th {\n",
       "        vertical-align: top;\n",
       "    }\n",
       "\n",
       "    .dataframe thead th {\n",
       "        text-align: right;\n",
       "    }\n",
       "</style>\n",
       "<table border=\"1\" class=\"dataframe\">\n",
       "  <thead>\n",
       "    <tr style=\"text-align: right;\">\n",
       "      <th></th>\n",
       "      <th>ProcessingDuration</th>\n",
       "      <th>Duration</th>\n",
       "      <th>InputPageCount</th>\n",
       "      <th>MessagesInQueue</th>\n",
       "      <th>Retries</th>\n",
       "    </tr>\n",
       "  </thead>\n",
       "  <tbody>\n",
       "    <tr>\n",
       "      <th>count</th>\n",
       "      <td>1085406.00</td>\n",
       "      <td>1080011.00</td>\n",
       "      <td>1085406.00</td>\n",
       "      <td>1121190.00</td>\n",
       "      <td>1121190.00</td>\n",
       "    </tr>\n",
       "    <tr>\n",
       "      <th>mean</th>\n",
       "      <td>4187.53</td>\n",
       "      <td>25350.38</td>\n",
       "      <td>1.21</td>\n",
       "      <td>9.01</td>\n",
       "      <td>0.00</td>\n",
       "    </tr>\n",
       "    <tr>\n",
       "      <th>std</th>\n",
       "      <td>5195.52</td>\n",
       "      <td>323548.18</td>\n",
       "      <td>2.13</td>\n",
       "      <td>52.46</td>\n",
       "      <td>0.09</td>\n",
       "    </tr>\n",
       "    <tr>\n",
       "      <th>min</th>\n",
       "      <td>34.00</td>\n",
       "      <td>271.00</td>\n",
       "      <td>1.00</td>\n",
       "      <td>0.00</td>\n",
       "      <td>0.00</td>\n",
       "    </tr>\n",
       "    <tr>\n",
       "      <th>25%</th>\n",
       "      <td>2264.00</td>\n",
       "      <td>2714.00</td>\n",
       "      <td>1.00</td>\n",
       "      <td>1.00</td>\n",
       "      <td>0.00</td>\n",
       "    </tr>\n",
       "    <tr>\n",
       "      <th>50%</th>\n",
       "      <td>2973.00</td>\n",
       "      <td>3707.00</td>\n",
       "      <td>1.00</td>\n",
       "      <td>3.00</td>\n",
       "      <td>0.00</td>\n",
       "    </tr>\n",
       "    <tr>\n",
       "      <th>75%</th>\n",
       "      <td>4841.00</td>\n",
       "      <td>7064.00</td>\n",
       "      <td>1.00</td>\n",
       "      <td>7.00</td>\n",
       "      <td>0.00</td>\n",
       "    </tr>\n",
       "    <tr>\n",
       "      <th>max</th>\n",
       "      <td>1422420.00</td>\n",
       "      <td>45199914.00</td>\n",
       "      <td>736.00</td>\n",
       "      <td>2018.00</td>\n",
       "      <td>9.00</td>\n",
       "    </tr>\n",
       "  </tbody>\n",
       "</table>\n",
       "</div>"
      ],
      "text/plain": [
       "       ProcessingDuration    Duration  InputPageCount  MessagesInQueue  \\\n",
       "count          1085406.00  1080011.00      1085406.00       1121190.00   \n",
       "mean              4187.53    25350.38            1.21             9.01   \n",
       "std               5195.52   323548.18            2.13            52.46   \n",
       "min                 34.00      271.00            1.00             0.00   \n",
       "25%               2264.00     2714.00            1.00             1.00   \n",
       "50%               2973.00     3707.00            1.00             3.00   \n",
       "75%               4841.00     7064.00            1.00             7.00   \n",
       "max            1422420.00 45199914.00          736.00          2018.00   \n",
       "\n",
       "         Retries  \n",
       "count 1121190.00  \n",
       "mean        0.00  \n",
       "std         0.09  \n",
       "min         0.00  \n",
       "25%         0.00  \n",
       "50%         0.00  \n",
       "75%         0.00  \n",
       "max         9.00  "
      ]
     },
     "execution_count": 20,
     "metadata": {},
     "output_type": "execute_result"
    }
   ],
   "source": [
    "df.describe()"
   ]
  },
  {
   "cell_type": "code",
   "execution_count": 21,
   "id": "46c99e56",
   "metadata": {},
   "outputs": [
    {
     "data": {
      "text/plain": [
       "Queue                 13366\n",
       "ProcessingDuration    35784\n",
       "Duration              41179\n",
       "InputPageCount        35784\n",
       "MessagesInQueue           0\n",
       "Retries                   0\n",
       "StartDateTimeUtc          0\n",
       "dtype: int64"
      ]
     },
     "execution_count": 21,
     "metadata": {},
     "output_type": "execute_result"
    }
   ],
   "source": [
    "df.isnull().sum()"
   ]
  },
  {
   "cell_type": "code",
   "execution_count": 22,
   "id": "307c3acd",
   "metadata": {},
   "outputs": [
    {
     "name": "stdout",
     "output_type": "stream",
     "text": [
      "POTOK: 0 potok_1-1\n",
      "Queue                     0\n",
      "ProcessingDuration    10562\n",
      "Duration              11557\n",
      "InputPageCount        10562\n",
      "MessagesInQueue           0\n",
      "Retries                   0\n",
      "StartDateTimeUtc          0\n",
      "dtype: int64 \n",
      "\n",
      "POTOK: 1 potok_3-1\n",
      "Queue                    0\n",
      "ProcessingDuration    5769\n",
      "Duration              6864\n",
      "InputPageCount        5769\n",
      "MessagesInQueue          0\n",
      "Retries                  0\n",
      "StartDateTimeUtc         0\n",
      "dtype: int64 \n",
      "\n",
      "POTOK: 2 potok_1-2\n",
      "Queue                     0\n",
      "ProcessingDuration    13325\n",
      "Duration              14206\n",
      "InputPageCount        13325\n",
      "MessagesInQueue           0\n",
      "Retries                   0\n",
      "StartDateTimeUtc          0\n",
      "dtype: int64 \n",
      "\n",
      "POTOK: 3 potok_3-2\n",
      "Queue                    0\n",
      "ProcessingDuration    5966\n",
      "Duration              7814\n",
      "InputPageCount        5966\n",
      "MessagesInQueue          0\n",
      "Retries                  0\n",
      "StartDateTimeUtc         0\n",
      "dtype: int64 \n",
      "\n",
      "POTOK: 4 nan\n",
      "Queue                0.00\n",
      "ProcessingDuration   0.00\n",
      "Duration             0.00\n",
      "InputPageCount       0.00\n",
      "MessagesInQueue      0.00\n",
      "Retries              0.00\n",
      "StartDateTimeUtc     0.00\n",
      "dtype: float64 \n",
      "\n",
      "POTOK: 5 potok_2-1\n",
      "Queue                   0\n",
      "ProcessingDuration     94\n",
      "Duration              137\n",
      "InputPageCount         94\n",
      "MessagesInQueue         0\n",
      "Retries                 0\n",
      "StartDateTimeUtc        0\n",
      "dtype: int64 \n",
      "\n",
      "POTOK: 6 potok_2-2\n",
      "Queue                  0\n",
      "ProcessingDuration    68\n",
      "Duration              71\n",
      "InputPageCount        68\n",
      "MessagesInQueue        0\n",
      "Retries                0\n",
      "StartDateTimeUtc       0\n",
      "dtype: int64 \n",
      "\n"
     ]
    }
   ],
   "source": [
    "for i, v in enumerate(df[\"Queue\"].unique()):\n",
    "    print(\"POTOK:\", i, v)\n",
    "    print(df[df[\"Queue\"] == v].isnull().sum(), \"\\n\")"
   ]
  },
  {
   "cell_type": "markdown",
   "id": "60e72d71",
   "metadata": {},
   "source": [
    "## preprocessing"
   ]
  },
  {
   "cell_type": "code",
   "execution_count": null,
   "id": "18e7e76b",
   "metadata": {},
   "outputs": [],
   "source": [
    "df[['potok']] = 'potok_' + df['Queue'].str.extract(r'^potok_(\\d+)')"
   ]
  },
  {
   "cell_type": "code",
   "execution_count": null,
   "id": "cc23e5ef",
   "metadata": {},
   "outputs": [],
   "source": [
    "# df[\n",
    "#     [\n",
    "#         'year',\n",
    "#         'month',\n",
    "#         'day',\n",
    "#         'hour',\n",
    "#         'minute',\n",
    "#         'second',\n",
    "#         'microsecond'\n",
    "#     ]\n",
    "# ] = pd.to_datetime(df['StartDateTimeUtc']).dt.strftime('%Y-%m-%d %H:%M:%S.%f').str.extract(r'(\\d{4})-(\\d{2})-(\\d{2})\\s(\\d{2}):(\\d{2}):(\\d{2})\\.(\\d{6})')\n"
   ]
  },
  {
   "cell_type": "code",
   "execution_count": null,
   "id": "53e83233",
   "metadata": {},
   "outputs": [],
   "source": [
    "df.info()"
   ]
  },
  {
   "cell_type": "code",
   "execution_count": null,
   "id": "8dd11ea0",
   "metadata": {},
   "outputs": [],
   "source": [
    "df_sample = df.sample(frac=0.001, replace=False)\n",
    "df_sample"
   ]
  },
  {
   "cell_type": "code",
   "execution_count": null,
   "id": "4b1ff605",
   "metadata": {
    "scrolled": false
   },
   "outputs": [],
   "source": [
    "df"
   ]
  },
  {
   "cell_type": "code",
   "execution_count": null,
   "id": "fa3d6c36",
   "metadata": {},
   "outputs": [],
   "source": [
    "profile = ProfileReport(df, tsmode=True, sortby=\"StartDateTimeUtc\", title=\"Pandas Profiling Report\")"
   ]
  },
  {
   "cell_type": "code",
   "execution_count": null,
   "id": "97906630",
   "metadata": {},
   "outputs": [],
   "source": [
    "profile.to_widgets()"
   ]
  },
  {
   "cell_type": "code",
   "execution_count": null,
   "id": "087314b2",
   "metadata": {},
   "outputs": [],
   "source": [
    "profile.to_notebook_iframe()"
   ]
  },
  {
   "cell_type": "code",
   "execution_count": null,
   "id": "e10c17a0",
   "metadata": {},
   "outputs": [],
   "source": [
    "profile.to_file(\"outputs\\report_timeseries.html\")"
   ]
  },
  {
   "cell_type": "code",
   "execution_count": null,
   "id": "482dfa16",
   "metadata": {},
   "outputs": [],
   "source": []
  }
 ],
 "metadata": {
  "kernelspec": {
   "display_name": "Python 3 (ipykernel)",
   "language": "python",
   "name": "python3"
  },
  "language_info": {
   "codemirror_mode": {
    "name": "ipython",
    "version": 3
   },
   "file_extension": ".py",
   "mimetype": "text/x-python",
   "name": "python",
   "nbconvert_exporter": "python",
   "pygments_lexer": "ipython3",
   "version": "3.9.3"
  }
 },
 "nbformat": 4,
 "nbformat_minor": 5
}

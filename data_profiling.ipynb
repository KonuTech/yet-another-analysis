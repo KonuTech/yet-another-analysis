{
 "cells": [
  {
   "cell_type": "code",
   "execution_count": 1,
   "id": "358af690",
   "metadata": {},
   "outputs": [],
   "source": [
    "import os\n",
    "import json\n",
    "import numpy as np\n",
    "import pandas as pd\n",
    "import matplotlib.pyplot as plt\n",
    "import seaborn as sns\n",
    "from ydata_profiling import ProfileReport"
   ]
  },
  {
   "cell_type": "code",
   "execution_count": 2,
   "id": "388725ac",
   "metadata": {},
   "outputs": [],
   "source": [
    "from IPython.display import display, HTML\n",
    "import warnings"
   ]
  },
  {
   "cell_type": "code",
   "execution_count": 3,
   "id": "37c2fd7a",
   "metadata": {},
   "outputs": [
    {
     "data": {
      "text/html": [
       "<style>.container { width:100% !important; }</style>"
      ],
      "text/plain": [
       "<IPython.core.display.HTML object>"
      ]
     },
     "metadata": {},
     "output_type": "display_data"
    }
   ],
   "source": [
    "display(HTML(\"<style>.container { width:100% !important; }</style>\"))\n",
    "warnings.filterwarnings('ignore')\n",
    "pd.options.display.float_format = \"{:.2f}\".format"
   ]
  },
  {
   "cell_type": "code",
   "execution_count": 4,
   "id": "65a0dab5",
   "metadata": {},
   "outputs": [],
   "source": [
    "INPUT = 'przetwarzanie_faktur_zadanie.csv'"
   ]
  },
  {
   "cell_type": "code",
   "execution_count": 5,
   "id": "5622f6b1",
   "metadata": {},
   "outputs": [],
   "source": [
    "CONFIG = 'config.json'"
   ]
  },
  {
   "cell_type": "code",
   "execution_count": 6,
   "id": "700a0638",
   "metadata": {},
   "outputs": [
    {
     "name": "stdout",
     "output_type": "stream",
     "text": [
      "C:\\Users\\KonuTech\\PycharmProjects\\yet-another-analysis\\INPUTS\\przetwarzanie_faktur_zadanie.csv\n"
     ]
    }
   ],
   "source": [
    "# Get the absolute path of the file within the INPUTS directory\n",
    "FILE_PATH = os.path.join(os.getcwd(), 'INPUTS', INPUT)\n",
    "\n",
    "# Print the file path\n",
    "print(FILE_PATH)"
   ]
  },
  {
   "cell_type": "code",
   "execution_count": 7,
   "id": "6f6ba24f",
   "metadata": {},
   "outputs": [
    {
     "name": "stdout",
     "output_type": "stream",
     "text": [
      "C:\\Users\\KonuTech\\PycharmProjects\\yet-another-analysis\\CONFIGS\\config.json\n"
     ]
    }
   ],
   "source": [
    "# Get the absolute path of the config within the CONFIGS directory\n",
    "CONFIG_PATH = os.path.join(os.getcwd(), 'CONFIGS', CONFIG)\n",
    "\n",
    "# Print the fileconfig_pathpath\n",
    "print(CONFIG_PATH)"
   ]
  },
  {
   "cell_type": "code",
   "execution_count": 8,
   "id": "58298b71",
   "metadata": {},
   "outputs": [],
   "source": [
    "with open(CONFIG_PATH, encoding='utf-8') as f:\n",
    "    CONFIG = json.load(f)"
   ]
  },
  {
   "cell_type": "code",
   "execution_count": 9,
   "id": "fd4ae10b",
   "metadata": {},
   "outputs": [],
   "source": [
    "INDEX_COL = CONFIG[\"INPUTS\"][\"INDEX_COLUMNS\"]\n",
    "SEP = CONFIG[\"INPUTS\"][\"SEPARATOR\"]\n",
    "# DECIMAL = CONFIG[\"INPUTS\"][\"DECIMAL\"]\n",
    "ENCODING = CONFIG[\"INPUTS\"][\"ENCODING\"]\n",
    "DATE_COLUMNS = CONFIG[\"INPUTS\"][\"DATE_COLUMNS\"]\n",
    "# FLOAT_PRECISION = CONFIG[\"INPUTS\"][\"FLOAT_PRECISION\"]\n",
    "DTYPE = CONFIG[\"INPUTS\"][\"DTYPE\"]\n",
    "COLUMNS_WITH_NAN_VALUES = CONFIG[\"INPUTS\"][\"COLUMNS_WITH_NAN_VALUES\"]\n",
    "# X_ORDER = CONFIG[\"X_ORDER\"]\n",
    "HUE_ORDER = CONFIG[\"HUE_ORDER\"]\n",
    "COL_ORDER = CONFIG[\"COL_ORDER\"]"
   ]
  },
  {
   "cell_type": "code",
   "execution_count": 10,
   "id": "6153eb6d",
   "metadata": {},
   "outputs": [
    {
     "data": {
      "text/plain": [
       "['ID_Process', 'ID_Document']"
      ]
     },
     "execution_count": 10,
     "metadata": {},
     "output_type": "execute_result"
    }
   ],
   "source": [
    "INDEX_COL"
   ]
  },
  {
   "cell_type": "code",
   "execution_count": 11,
   "id": "62c8b703",
   "metadata": {},
   "outputs": [
    {
     "data": {
      "text/plain": [
       "';'"
      ]
     },
     "execution_count": 11,
     "metadata": {},
     "output_type": "execute_result"
    }
   ],
   "source": [
    "SEP"
   ]
  },
  {
   "cell_type": "code",
   "execution_count": 12,
   "id": "fcfcb5cb",
   "metadata": {},
   "outputs": [
    {
     "data": {
      "text/plain": [
       "'utf-8'"
      ]
     },
     "execution_count": 12,
     "metadata": {},
     "output_type": "execute_result"
    }
   ],
   "source": [
    "ENCODING"
   ]
  },
  {
   "cell_type": "code",
   "execution_count": 13,
   "id": "e86414c4",
   "metadata": {},
   "outputs": [
    {
     "data": {
      "text/plain": [
       "['StartDateTimeUtc']"
      ]
     },
     "execution_count": 13,
     "metadata": {},
     "output_type": "execute_result"
    }
   ],
   "source": [
    "DATE_COLUMNS"
   ]
  },
  {
   "cell_type": "code",
   "execution_count": 14,
   "id": "a860cfa5",
   "metadata": {},
   "outputs": [
    {
     "data": {
      "text/plain": [
       "{'ID_Process': 'object',\n",
       " 'ID_Document': 'object',\n",
       " 'Queue': 'object',\n",
       " 'ProcessingDuration': 'int64',\n",
       " 'Duration': 'int64',\n",
       " 'InputPageCount': 'int64',\n",
       " 'MessagesInQueue': 'int64',\n",
       " 'Retries': 'int64'}"
      ]
     },
     "execution_count": 14,
     "metadata": {},
     "output_type": "execute_result"
    }
   ],
   "source": [
    "DTYPE"
   ]
  },
  {
   "cell_type": "code",
   "execution_count": 15,
   "id": "1ad22418",
   "metadata": {},
   "outputs": [
    {
     "data": {
      "text/plain": [
       "['Duration']"
      ]
     },
     "execution_count": 15,
     "metadata": {},
     "output_type": "execute_result"
    }
   ],
   "source": [
    "COLUMNS_WITH_NAN_VALUES"
   ]
  },
  {
   "cell_type": "code",
   "execution_count": 16,
   "id": "b5c6f750",
   "metadata": {},
   "outputs": [],
   "source": [
    "df = pd.read_csv(\n",
    "    filepath_or_buffer=FILE_PATH,\n",
    "    index_col=INDEX_COL,\n",
    "    sep=SEP,\n",
    "    encoding=ENCODING,\n",
    "    engine=\"c\",\n",
    "    low_memory=False,\n",
    "    parse_dates=DATE_COLUMNS,\n",
    "#     dtype=DTYPE\n",
    ")"
   ]
  },
  {
   "cell_type": "code",
   "execution_count": 17,
   "id": "98bed444",
   "metadata": {},
   "outputs": [
    {
     "name": "stdout",
     "output_type": "stream",
     "text": [
      "<class 'pandas.core.frame.DataFrame'>\n",
      "MultiIndex: 1121190 entries, (2299375, 2270386.0) to (272829, 11148.0)\n",
      "Data columns (total 7 columns):\n",
      " #   Column              Non-Null Count    Dtype         \n",
      "---  ------              --------------    -----         \n",
      " 0   Queue               1107824 non-null  object        \n",
      " 1   ProcessingDuration  1085406 non-null  float64       \n",
      " 2   Duration            1080011 non-null  float64       \n",
      " 3   InputPageCount      1085406 non-null  float64       \n",
      " 4   MessagesInQueue     1121190 non-null  int64         \n",
      " 5   Retries             1121190 non-null  int64         \n",
      " 6   StartDateTimeUtc    1121190 non-null  datetime64[ns]\n",
      "dtypes: datetime64[ns](1), float64(3), int64(2), object(1)\n",
      "memory usage: 149.9+ MB\n"
     ]
    }
   ],
   "source": [
    "df.info()"
   ]
  },
  {
   "cell_type": "code",
   "execution_count": 18,
   "id": "83cf8262",
   "metadata": {},
   "outputs": [
    {
     "data": {
      "text/html": [
       "<div>\n",
       "<style scoped>\n",
       "    .dataframe tbody tr th:only-of-type {\n",
       "        vertical-align: middle;\n",
       "    }\n",
       "\n",
       "    .dataframe tbody tr th {\n",
       "        vertical-align: top;\n",
       "    }\n",
       "\n",
       "    .dataframe thead th {\n",
       "        text-align: right;\n",
       "    }\n",
       "</style>\n",
       "<table border=\"1\" class=\"dataframe\">\n",
       "  <thead>\n",
       "    <tr style=\"text-align: right;\">\n",
       "      <th></th>\n",
       "      <th></th>\n",
       "      <th>Queue</th>\n",
       "      <th>ProcessingDuration</th>\n",
       "      <th>Duration</th>\n",
       "      <th>InputPageCount</th>\n",
       "      <th>MessagesInQueue</th>\n",
       "      <th>Retries</th>\n",
       "      <th>StartDateTimeUtc</th>\n",
       "    </tr>\n",
       "    <tr>\n",
       "      <th>ID_Process</th>\n",
       "      <th>ID_Document</th>\n",
       "      <th></th>\n",
       "      <th></th>\n",
       "      <th></th>\n",
       "      <th></th>\n",
       "      <th></th>\n",
       "      <th></th>\n",
       "      <th></th>\n",
       "    </tr>\n",
       "  </thead>\n",
       "  <tbody>\n",
       "    <tr>\n",
       "      <th>2299375</th>\n",
       "      <th>2270386.00</th>\n",
       "      <td>potok_1-1</td>\n",
       "      <td>2583.00</td>\n",
       "      <td>2940.00</td>\n",
       "      <td>1.00</td>\n",
       "      <td>4</td>\n",
       "      <td>0</td>\n",
       "      <td>2023-03-02 12:47:31.880</td>\n",
       "    </tr>\n",
       "    <tr>\n",
       "      <th>202658</th>\n",
       "      <th>245850.00</th>\n",
       "      <td>potok_1-1</td>\n",
       "      <td>5486.00</td>\n",
       "      <td>6626.00</td>\n",
       "      <td>2.00</td>\n",
       "      <td>6</td>\n",
       "      <td>0</td>\n",
       "      <td>2023-02-10 08:33:17.910</td>\n",
       "    </tr>\n",
       "    <tr>\n",
       "      <th>2323656</th>\n",
       "      <th>2304772.00</th>\n",
       "      <td>potok_3-1</td>\n",
       "      <td>2079.00</td>\n",
       "      <td>2606.00</td>\n",
       "      <td>1.00</td>\n",
       "      <td>7</td>\n",
       "      <td>0</td>\n",
       "      <td>2023-03-03 13:35:13.690</td>\n",
       "    </tr>\n",
       "    <tr>\n",
       "      <th>115622</th>\n",
       "      <th>165259.00</th>\n",
       "      <td>potok_1-2</td>\n",
       "      <td>2915.00</td>\n",
       "      <td>3228.00</td>\n",
       "      <td>2.00</td>\n",
       "      <td>1</td>\n",
       "      <td>0</td>\n",
       "      <td>2023-02-15 14:18:19.550</td>\n",
       "    </tr>\n",
       "    <tr>\n",
       "      <th>343261</th>\n",
       "      <th>237985.00</th>\n",
       "      <td>potok_1-1</td>\n",
       "      <td>2480.00</td>\n",
       "      <td>3114.00</td>\n",
       "      <td>1.00</td>\n",
       "      <td>9</td>\n",
       "      <td>0</td>\n",
       "      <td>2023-02-15 07:26:05.317</td>\n",
       "    </tr>\n",
       "  </tbody>\n",
       "</table>\n",
       "</div>"
      ],
      "text/plain": [
       "                            Queue  ProcessingDuration  Duration  \\\n",
       "ID_Process ID_Document                                            \n",
       "2299375    2270386.00   potok_1-1             2583.00   2940.00   \n",
       "202658     245850.00    potok_1-1             5486.00   6626.00   \n",
       "2323656    2304772.00   potok_3-1             2079.00   2606.00   \n",
       "115622     165259.00    potok_1-2             2915.00   3228.00   \n",
       "343261     237985.00    potok_1-1             2480.00   3114.00   \n",
       "\n",
       "                        InputPageCount  MessagesInQueue  Retries  \\\n",
       "ID_Process ID_Document                                             \n",
       "2299375    2270386.00             1.00                4        0   \n",
       "202658     245850.00              2.00                6        0   \n",
       "2323656    2304772.00             1.00                7        0   \n",
       "115622     165259.00              2.00                1        0   \n",
       "343261     237985.00              1.00                9        0   \n",
       "\n",
       "                              StartDateTimeUtc  \n",
       "ID_Process ID_Document                          \n",
       "2299375    2270386.00  2023-03-02 12:47:31.880  \n",
       "202658     245850.00   2023-02-10 08:33:17.910  \n",
       "2323656    2304772.00  2023-03-03 13:35:13.690  \n",
       "115622     165259.00   2023-02-15 14:18:19.550  \n",
       "343261     237985.00   2023-02-15 07:26:05.317  "
      ]
     },
     "execution_count": 18,
     "metadata": {},
     "output_type": "execute_result"
    }
   ],
   "source": [
    "df.head()"
   ]
  },
  {
   "cell_type": "code",
   "execution_count": 19,
   "id": "1477ae90",
   "metadata": {},
   "outputs": [
    {
     "data": {
      "text/html": [
       "<div>\n",
       "<style scoped>\n",
       "    .dataframe tbody tr th:only-of-type {\n",
       "        vertical-align: middle;\n",
       "    }\n",
       "\n",
       "    .dataframe tbody tr th {\n",
       "        vertical-align: top;\n",
       "    }\n",
       "\n",
       "    .dataframe thead th {\n",
       "        text-align: right;\n",
       "    }\n",
       "</style>\n",
       "<table border=\"1\" class=\"dataframe\">\n",
       "  <thead>\n",
       "    <tr style=\"text-align: right;\">\n",
       "      <th></th>\n",
       "      <th></th>\n",
       "      <th>Queue</th>\n",
       "      <th>ProcessingDuration</th>\n",
       "      <th>Duration</th>\n",
       "      <th>InputPageCount</th>\n",
       "      <th>MessagesInQueue</th>\n",
       "      <th>Retries</th>\n",
       "      <th>StartDateTimeUtc</th>\n",
       "    </tr>\n",
       "    <tr>\n",
       "      <th>ID_Process</th>\n",
       "      <th>ID_Document</th>\n",
       "      <th></th>\n",
       "      <th></th>\n",
       "      <th></th>\n",
       "      <th></th>\n",
       "      <th></th>\n",
       "      <th></th>\n",
       "      <th></th>\n",
       "    </tr>\n",
       "  </thead>\n",
       "  <tbody>\n",
       "    <tr>\n",
       "      <th>2627984</th>\n",
       "      <th>2571026.00</th>\n",
       "      <td>potok_3-2</td>\n",
       "      <td>3040.00</td>\n",
       "      <td>3683.00</td>\n",
       "      <td>1.00</td>\n",
       "      <td>2</td>\n",
       "      <td>0</td>\n",
       "      <td>2023-03-13 19:29:07.610</td>\n",
       "    </tr>\n",
       "    <tr>\n",
       "      <th>2492632</th>\n",
       "      <th>2457336.00</th>\n",
       "      <td>potok_3-1</td>\n",
       "      <td>3127.00</td>\n",
       "      <td>3425.00</td>\n",
       "      <td>1.00</td>\n",
       "      <td>6</td>\n",
       "      <td>0</td>\n",
       "      <td>2023-03-09 12:50:04.387</td>\n",
       "    </tr>\n",
       "    <tr>\n",
       "      <th>2771801</th>\n",
       "      <th>2812898.00</th>\n",
       "      <td>potok_3-2</td>\n",
       "      <td>298.00</td>\n",
       "      <td>715.00</td>\n",
       "      <td>2.00</td>\n",
       "      <td>0</td>\n",
       "      <td>0</td>\n",
       "      <td>2023-03-24 07:14:42.087</td>\n",
       "    </tr>\n",
       "    <tr>\n",
       "      <th>2343195</th>\n",
       "      <th>2328046.00</th>\n",
       "      <td>potok_1-2</td>\n",
       "      <td>9247.00</td>\n",
       "      <td>9689.00</td>\n",
       "      <td>1.00</td>\n",
       "      <td>4</td>\n",
       "      <td>0</td>\n",
       "      <td>2023-03-05 21:14:38.007</td>\n",
       "    </tr>\n",
       "    <tr>\n",
       "      <th>272829</th>\n",
       "      <th>11148.00</th>\n",
       "      <td>potok_1-2</td>\n",
       "      <td>74.00</td>\n",
       "      <td>10153.00</td>\n",
       "      <td>3.00</td>\n",
       "      <td>0</td>\n",
       "      <td>0</td>\n",
       "      <td>2023-02-13 10:47:07.257</td>\n",
       "    </tr>\n",
       "  </tbody>\n",
       "</table>\n",
       "</div>"
      ],
      "text/plain": [
       "                            Queue  ProcessingDuration  Duration  \\\n",
       "ID_Process ID_Document                                            \n",
       "2627984    2571026.00   potok_3-2             3040.00   3683.00   \n",
       "2492632    2457336.00   potok_3-1             3127.00   3425.00   \n",
       "2771801    2812898.00   potok_3-2              298.00    715.00   \n",
       "2343195    2328046.00   potok_1-2             9247.00   9689.00   \n",
       "272829     11148.00     potok_1-2               74.00  10153.00   \n",
       "\n",
       "                        InputPageCount  MessagesInQueue  Retries  \\\n",
       "ID_Process ID_Document                                             \n",
       "2627984    2571026.00             1.00                2        0   \n",
       "2492632    2457336.00             1.00                6        0   \n",
       "2771801    2812898.00             2.00                0        0   \n",
       "2343195    2328046.00             1.00                4        0   \n",
       "272829     11148.00               3.00                0        0   \n",
       "\n",
       "                              StartDateTimeUtc  \n",
       "ID_Process ID_Document                          \n",
       "2627984    2571026.00  2023-03-13 19:29:07.610  \n",
       "2492632    2457336.00  2023-03-09 12:50:04.387  \n",
       "2771801    2812898.00  2023-03-24 07:14:42.087  \n",
       "2343195    2328046.00  2023-03-05 21:14:38.007  \n",
       "272829     11148.00    2023-02-13 10:47:07.257  "
      ]
     },
     "execution_count": 19,
     "metadata": {},
     "output_type": "execute_result"
    }
   ],
   "source": [
    "df.tail()"
   ]
  },
  {
   "cell_type": "code",
   "execution_count": 20,
   "id": "d0da5659",
   "metadata": {},
   "outputs": [
    {
     "data": {
      "text/html": [
       "<div>\n",
       "<style scoped>\n",
       "    .dataframe tbody tr th:only-of-type {\n",
       "        vertical-align: middle;\n",
       "    }\n",
       "\n",
       "    .dataframe tbody tr th {\n",
       "        vertical-align: top;\n",
       "    }\n",
       "\n",
       "    .dataframe thead th {\n",
       "        text-align: right;\n",
       "    }\n",
       "</style>\n",
       "<table border=\"1\" class=\"dataframe\">\n",
       "  <thead>\n",
       "    <tr style=\"text-align: right;\">\n",
       "      <th></th>\n",
       "      <th>ProcessingDuration</th>\n",
       "      <th>Duration</th>\n",
       "      <th>InputPageCount</th>\n",
       "      <th>MessagesInQueue</th>\n",
       "      <th>Retries</th>\n",
       "    </tr>\n",
       "  </thead>\n",
       "  <tbody>\n",
       "    <tr>\n",
       "      <th>count</th>\n",
       "      <td>1085406.00</td>\n",
       "      <td>1080011.00</td>\n",
       "      <td>1085406.00</td>\n",
       "      <td>1121190.00</td>\n",
       "      <td>1121190.00</td>\n",
       "    </tr>\n",
       "    <tr>\n",
       "      <th>mean</th>\n",
       "      <td>4187.53</td>\n",
       "      <td>25350.38</td>\n",
       "      <td>1.21</td>\n",
       "      <td>9.01</td>\n",
       "      <td>0.00</td>\n",
       "    </tr>\n",
       "    <tr>\n",
       "      <th>std</th>\n",
       "      <td>5195.52</td>\n",
       "      <td>323548.18</td>\n",
       "      <td>2.13</td>\n",
       "      <td>52.46</td>\n",
       "      <td>0.09</td>\n",
       "    </tr>\n",
       "    <tr>\n",
       "      <th>min</th>\n",
       "      <td>34.00</td>\n",
       "      <td>271.00</td>\n",
       "      <td>1.00</td>\n",
       "      <td>0.00</td>\n",
       "      <td>0.00</td>\n",
       "    </tr>\n",
       "    <tr>\n",
       "      <th>25%</th>\n",
       "      <td>2264.00</td>\n",
       "      <td>2714.00</td>\n",
       "      <td>1.00</td>\n",
       "      <td>1.00</td>\n",
       "      <td>0.00</td>\n",
       "    </tr>\n",
       "    <tr>\n",
       "      <th>50%</th>\n",
       "      <td>2973.00</td>\n",
       "      <td>3707.00</td>\n",
       "      <td>1.00</td>\n",
       "      <td>3.00</td>\n",
       "      <td>0.00</td>\n",
       "    </tr>\n",
       "    <tr>\n",
       "      <th>75%</th>\n",
       "      <td>4841.00</td>\n",
       "      <td>7064.00</td>\n",
       "      <td>1.00</td>\n",
       "      <td>7.00</td>\n",
       "      <td>0.00</td>\n",
       "    </tr>\n",
       "    <tr>\n",
       "      <th>max</th>\n",
       "      <td>1422420.00</td>\n",
       "      <td>45199914.00</td>\n",
       "      <td>736.00</td>\n",
       "      <td>2018.00</td>\n",
       "      <td>9.00</td>\n",
       "    </tr>\n",
       "  </tbody>\n",
       "</table>\n",
       "</div>"
      ],
      "text/plain": [
       "       ProcessingDuration    Duration  InputPageCount  MessagesInQueue  \\\n",
       "count          1085406.00  1080011.00      1085406.00       1121190.00   \n",
       "mean              4187.53    25350.38            1.21             9.01   \n",
       "std               5195.52   323548.18            2.13            52.46   \n",
       "min                 34.00      271.00            1.00             0.00   \n",
       "25%               2264.00     2714.00            1.00             1.00   \n",
       "50%               2973.00     3707.00            1.00             3.00   \n",
       "75%               4841.00     7064.00            1.00             7.00   \n",
       "max            1422420.00 45199914.00          736.00          2018.00   \n",
       "\n",
       "         Retries  \n",
       "count 1121190.00  \n",
       "mean        0.00  \n",
       "std         0.09  \n",
       "min         0.00  \n",
       "25%         0.00  \n",
       "50%         0.00  \n",
       "75%         0.00  \n",
       "max         9.00  "
      ]
     },
     "execution_count": 20,
     "metadata": {},
     "output_type": "execute_result"
    }
   ],
   "source": [
    "df.describe()"
   ]
  },
  {
   "cell_type": "code",
   "execution_count": 21,
   "id": "46c99e56",
   "metadata": {},
   "outputs": [
    {
     "data": {
      "text/plain": [
       "Queue                 13366\n",
       "ProcessingDuration    35784\n",
       "Duration              41179\n",
       "InputPageCount        35784\n",
       "MessagesInQueue           0\n",
       "Retries                   0\n",
       "StartDateTimeUtc          0\n",
       "dtype: int64"
      ]
     },
     "execution_count": 21,
     "metadata": {},
     "output_type": "execute_result"
    }
   ],
   "source": [
    "df.isnull().sum()"
   ]
  },
  {
   "cell_type": "code",
   "execution_count": 22,
   "id": "307c3acd",
   "metadata": {},
   "outputs": [],
   "source": [
    "# for i, v in enumerate(df[\"Queue\"].unique()):\n",
    "#     print(\"POTOK:\", i, v)\n",
    "#     print(df[df[\"Queue\"] == v].isnull().sum(), \"\\n\")"
   ]
  },
  {
   "cell_type": "markdown",
   "id": "60e72d71",
   "metadata": {},
   "source": [
    "## preprocessing"
   ]
  },
  {
   "cell_type": "code",
   "execution_count": 23,
   "id": "797d6be2",
   "metadata": {},
   "outputs": [],
   "source": [
    "# Convert the time values to minutes, hours, and days\n",
    "df['ProcessingDuration_sec'] = df['ProcessingDuration'] / 1000\n",
    "# df['ProcessingDuration_min'] = df['ProcessingDuration'] / (1000 * 60)\n",
    "# df['ProcessingDuration_hours'] = df['ProcessingDuration'] / (1000 * 60 * 60)\n",
    "# df['ProcessingDuration_days'] = df['ProcessingDuration'] / (1000 * 60 * 60 * 24)"
   ]
  },
  {
   "cell_type": "code",
   "execution_count": 24,
   "id": "da3e92de",
   "metadata": {},
   "outputs": [],
   "source": [
    "# Convert the time values to minutes, hours, and days\n",
    "df['Duration_sec'] = df['Duration'] / 1000\n",
    "# df['Duration_min'] = df['Duration'] / (1000 * 60)\n",
    "# df['Duration_hours'] = df['Duration'] / (1000 * 60 * 60)\n",
    "# df['Duration_days'] = df['Duration'] / (1000 * 60 * 60 * 24)"
   ]
  },
  {
   "cell_type": "code",
   "execution_count": 25,
   "id": "18e7e76b",
   "metadata": {},
   "outputs": [],
   "source": [
    "# df[['potok']] = 'potok_' + df['Queue'].str.extract(r'^potok_(\\d+)')"
   ]
  },
  {
   "cell_type": "code",
   "execution_count": 26,
   "id": "cc23e5ef",
   "metadata": {},
   "outputs": [],
   "source": [
    "# df[\n",
    "#     [\n",
    "#         'year',\n",
    "#         'month',\n",
    "#         'day',\n",
    "#         'hour',\n",
    "#         'minute',\n",
    "#         'second',\n",
    "#         'microsecond'\n",
    "#     ]\n",
    "# ] = pd.to_datetime(df['StartDateTimeUtc']).dt.strftime('%Y-%m-%d %H:%M:%S.%f').str.extract(r'(\\d{4})-(\\d{2})-(\\d{2})\\s(\\d{2}):(\\d{2}):(\\d{2})\\.(\\d{6})')\n"
   ]
  },
  {
   "cell_type": "code",
   "execution_count": 27,
   "id": "acb0b6ad",
   "metadata": {},
   "outputs": [],
   "source": [
    "df.drop(columns=['ProcessingDuration', 'Duration'], inplace=True)"
   ]
  },
  {
   "cell_type": "code",
   "execution_count": 28,
   "id": "53e83233",
   "metadata": {},
   "outputs": [
    {
     "name": "stdout",
     "output_type": "stream",
     "text": [
      "<class 'pandas.core.frame.DataFrame'>\n",
      "MultiIndex: 1121190 entries, (2299375, 2270386.0) to (272829, 11148.0)\n",
      "Data columns (total 7 columns):\n",
      " #   Column                  Non-Null Count    Dtype         \n",
      "---  ------                  --------------    -----         \n",
      " 0   Queue                   1107824 non-null  object        \n",
      " 1   InputPageCount          1085406 non-null  float64       \n",
      " 2   MessagesInQueue         1121190 non-null  int64         \n",
      " 3   Retries                 1121190 non-null  int64         \n",
      " 4   StartDateTimeUtc        1121190 non-null  datetime64[ns]\n",
      " 5   ProcessingDuration_sec  1085406 non-null  float64       \n",
      " 6   Duration_sec            1080011 non-null  float64       \n",
      "dtypes: datetime64[ns](1), float64(3), int64(2), object(1)\n",
      "memory usage: 149.9+ MB\n"
     ]
    }
   ],
   "source": [
    "df.info()"
   ]
  },
  {
   "cell_type": "code",
   "execution_count": 29,
   "id": "8dd11ea0",
   "metadata": {},
   "outputs": [
    {
     "data": {
      "text/html": [
       "<div>\n",
       "<style scoped>\n",
       "    .dataframe tbody tr th:only-of-type {\n",
       "        vertical-align: middle;\n",
       "    }\n",
       "\n",
       "    .dataframe tbody tr th {\n",
       "        vertical-align: top;\n",
       "    }\n",
       "\n",
       "    .dataframe thead th {\n",
       "        text-align: right;\n",
       "    }\n",
       "</style>\n",
       "<table border=\"1\" class=\"dataframe\">\n",
       "  <thead>\n",
       "    <tr style=\"text-align: right;\">\n",
       "      <th></th>\n",
       "      <th></th>\n",
       "      <th>Queue</th>\n",
       "      <th>InputPageCount</th>\n",
       "      <th>MessagesInQueue</th>\n",
       "      <th>Retries</th>\n",
       "      <th>StartDateTimeUtc</th>\n",
       "      <th>ProcessingDuration_sec</th>\n",
       "      <th>Duration_sec</th>\n",
       "    </tr>\n",
       "    <tr>\n",
       "      <th>ID_Process</th>\n",
       "      <th>ID_Document</th>\n",
       "      <th></th>\n",
       "      <th></th>\n",
       "      <th></th>\n",
       "      <th></th>\n",
       "      <th></th>\n",
       "      <th></th>\n",
       "      <th></th>\n",
       "    </tr>\n",
       "  </thead>\n",
       "  <tbody>\n",
       "    <tr>\n",
       "      <th>2247141</th>\n",
       "      <th>2226506.00</th>\n",
       "      <td>potok_3-1</td>\n",
       "      <td>1.00</td>\n",
       "      <td>3</td>\n",
       "      <td>0</td>\n",
       "      <td>2023-03-01 17:56:56.080</td>\n",
       "      <td>3.29</td>\n",
       "      <td>3.58</td>\n",
       "    </tr>\n",
       "    <tr>\n",
       "      <th>2567067</th>\n",
       "      <th>2577784.00</th>\n",
       "      <td>potok_3-1</td>\n",
       "      <td>1.00</td>\n",
       "      <td>1</td>\n",
       "      <td>0</td>\n",
       "      <td>2023-03-16 16:01:47.590</td>\n",
       "      <td>2.87</td>\n",
       "      <td>3.26</td>\n",
       "    </tr>\n",
       "    <tr>\n",
       "      <th>453372</th>\n",
       "      <th>342024.00</th>\n",
       "      <td>potok_3-1</td>\n",
       "      <td>1.00</td>\n",
       "      <td>2</td>\n",
       "      <td>0</td>\n",
       "      <td>2023-02-05 15:12:23.860</td>\n",
       "      <td>2.23</td>\n",
       "      <td>2.53</td>\n",
       "    </tr>\n",
       "    <tr>\n",
       "      <th>2687155</th>\n",
       "      <th>2830928.00</th>\n",
       "      <td>potok_3-1</td>\n",
       "      <td>1.00</td>\n",
       "      <td>1</td>\n",
       "      <td>0</td>\n",
       "      <td>2023-03-17 12:51:57.247</td>\n",
       "      <td>2.33</td>\n",
       "      <td>2.68</td>\n",
       "    </tr>\n",
       "    <tr>\n",
       "      <th>134116</th>\n",
       "      <th>222000.00</th>\n",
       "      <td>potok_1-2</td>\n",
       "      <td>1.00</td>\n",
       "      <td>0</td>\n",
       "      <td>0</td>\n",
       "      <td>2023-02-09 17:12:42.253</td>\n",
       "      <td>2.53</td>\n",
       "      <td>2.87</td>\n",
       "    </tr>\n",
       "    <tr>\n",
       "      <th>...</th>\n",
       "      <th>...</th>\n",
       "      <td>...</td>\n",
       "      <td>...</td>\n",
       "      <td>...</td>\n",
       "      <td>...</td>\n",
       "      <td>...</td>\n",
       "      <td>...</td>\n",
       "      <td>...</td>\n",
       "    </tr>\n",
       "    <tr>\n",
       "      <th>2410833</th>\n",
       "      <th>2377051.00</th>\n",
       "      <td>potok_1-1</td>\n",
       "      <td>1.00</td>\n",
       "      <td>2</td>\n",
       "      <td>0</td>\n",
       "      <td>2023-03-07 08:35:36.873</td>\n",
       "      <td>2.85</td>\n",
       "      <td>3.32</td>\n",
       "    </tr>\n",
       "    <tr>\n",
       "      <th>2244577</th>\n",
       "      <th>2224821.00</th>\n",
       "      <td>potok_3-1</td>\n",
       "      <td>4.00</td>\n",
       "      <td>1</td>\n",
       "      <td>0</td>\n",
       "      <td>2023-03-01 11:20:35.383</td>\n",
       "      <td>8.72</td>\n",
       "      <td>9.03</td>\n",
       "    </tr>\n",
       "    <tr>\n",
       "      <th>2755800</th>\n",
       "      <th>2734702.00</th>\n",
       "      <td>potok_3-2</td>\n",
       "      <td>1.00</td>\n",
       "      <td>12</td>\n",
       "      <td>0</td>\n",
       "      <td>2023-03-21 14:31:23.600</td>\n",
       "      <td>4.05</td>\n",
       "      <td>4.67</td>\n",
       "    </tr>\n",
       "    <tr>\n",
       "      <th>323880</th>\n",
       "      <th>197864.00</th>\n",
       "      <td>potok_1-2</td>\n",
       "      <td>1.00</td>\n",
       "      <td>0</td>\n",
       "      <td>0</td>\n",
       "      <td>2023-02-15 20:27:51.743</td>\n",
       "      <td>0.09</td>\n",
       "      <td>0.48</td>\n",
       "    </tr>\n",
       "    <tr>\n",
       "      <th>2746101</th>\n",
       "      <th>2756757.00</th>\n",
       "      <td>potok_3-2</td>\n",
       "      <td>3.00</td>\n",
       "      <td>2</td>\n",
       "      <td>0</td>\n",
       "      <td>2023-03-17 10:57:31.617</td>\n",
       "      <td>5.50</td>\n",
       "      <td>5.86</td>\n",
       "    </tr>\n",
       "  </tbody>\n",
       "</table>\n",
       "<p>560595 rows × 7 columns</p>\n",
       "</div>"
      ],
      "text/plain": [
       "                            Queue  InputPageCount  MessagesInQueue  Retries  \\\n",
       "ID_Process ID_Document                                                        \n",
       "2247141    2226506.00   potok_3-1            1.00                3        0   \n",
       "2567067    2577784.00   potok_3-1            1.00                1        0   \n",
       "453372     342024.00    potok_3-1            1.00                2        0   \n",
       "2687155    2830928.00   potok_3-1            1.00                1        0   \n",
       "134116     222000.00    potok_1-2            1.00                0        0   \n",
       "...                           ...             ...              ...      ...   \n",
       "2410833    2377051.00   potok_1-1            1.00                2        0   \n",
       "2244577    2224821.00   potok_3-1            4.00                1        0   \n",
       "2755800    2734702.00   potok_3-2            1.00               12        0   \n",
       "323880     197864.00    potok_1-2            1.00                0        0   \n",
       "2746101    2756757.00   potok_3-2            3.00                2        0   \n",
       "\n",
       "                              StartDateTimeUtc  ProcessingDuration_sec  \\\n",
       "ID_Process ID_Document                                                   \n",
       "2247141    2226506.00  2023-03-01 17:56:56.080                    3.29   \n",
       "2567067    2577784.00  2023-03-16 16:01:47.590                    2.87   \n",
       "453372     342024.00   2023-02-05 15:12:23.860                    2.23   \n",
       "2687155    2830928.00  2023-03-17 12:51:57.247                    2.33   \n",
       "134116     222000.00   2023-02-09 17:12:42.253                    2.53   \n",
       "...                                        ...                     ...   \n",
       "2410833    2377051.00  2023-03-07 08:35:36.873                    2.85   \n",
       "2244577    2224821.00  2023-03-01 11:20:35.383                    8.72   \n",
       "2755800    2734702.00  2023-03-21 14:31:23.600                    4.05   \n",
       "323880     197864.00   2023-02-15 20:27:51.743                    0.09   \n",
       "2746101    2756757.00  2023-03-17 10:57:31.617                    5.50   \n",
       "\n",
       "                        Duration_sec  \n",
       "ID_Process ID_Document                \n",
       "2247141    2226506.00           3.58  \n",
       "2567067    2577784.00           3.26  \n",
       "453372     342024.00            2.53  \n",
       "2687155    2830928.00           2.68  \n",
       "134116     222000.00            2.87  \n",
       "...                              ...  \n",
       "2410833    2377051.00           3.32  \n",
       "2244577    2224821.00           9.03  \n",
       "2755800    2734702.00           4.67  \n",
       "323880     197864.00            0.48  \n",
       "2746101    2756757.00           5.86  \n",
       "\n",
       "[560595 rows x 7 columns]"
      ]
     },
     "execution_count": 29,
     "metadata": {},
     "output_type": "execute_result"
    }
   ],
   "source": [
    "df_sample = df.sample(frac=0.5, replace=False)\n",
    "df_sample"
   ]
  },
  {
   "cell_type": "code",
   "execution_count": 30,
   "id": "fa3d6c36",
   "metadata": {},
   "outputs": [],
   "source": [
    "# profile = ProfileReport(df_sample, tsmode=False, sortby=\"StartDateTimeUtc\", title=\"Pandas Profiling Report\")"
   ]
  },
  {
   "cell_type": "code",
   "execution_count": 31,
   "id": "f3462331",
   "metadata": {},
   "outputs": [],
   "source": [
    "df_filtered = df[~df['Queue'].isnull() & ~df['Queue'].isin(['potok_2-1', 'potok_2-2'])]"
   ]
  },
  {
   "cell_type": "code",
   "execution_count": 32,
   "id": "884fcf49",
   "metadata": {},
   "outputs": [
    {
     "data": {
      "text/html": [
       "<div>\n",
       "<style scoped>\n",
       "    .dataframe tbody tr th:only-of-type {\n",
       "        vertical-align: middle;\n",
       "    }\n",
       "\n",
       "    .dataframe tbody tr th {\n",
       "        vertical-align: top;\n",
       "    }\n",
       "\n",
       "    .dataframe thead th {\n",
       "        text-align: right;\n",
       "    }\n",
       "</style>\n",
       "<table border=\"1\" class=\"dataframe\">\n",
       "  <thead>\n",
       "    <tr style=\"text-align: right;\">\n",
       "      <th></th>\n",
       "      <th></th>\n",
       "      <th>Queue</th>\n",
       "      <th>InputPageCount</th>\n",
       "      <th>MessagesInQueue</th>\n",
       "      <th>Retries</th>\n",
       "      <th>StartDateTimeUtc</th>\n",
       "      <th>ProcessingDuration_sec</th>\n",
       "      <th>Duration_sec</th>\n",
       "    </tr>\n",
       "    <tr>\n",
       "      <th>ID_Process</th>\n",
       "      <th>ID_Document</th>\n",
       "      <th></th>\n",
       "      <th></th>\n",
       "      <th></th>\n",
       "      <th></th>\n",
       "      <th></th>\n",
       "      <th></th>\n",
       "      <th></th>\n",
       "    </tr>\n",
       "  </thead>\n",
       "  <tbody>\n",
       "    <tr>\n",
       "      <th>2299375</th>\n",
       "      <th>2270386.00</th>\n",
       "      <td>potok_1-1</td>\n",
       "      <td>1.00</td>\n",
       "      <td>4</td>\n",
       "      <td>0</td>\n",
       "      <td>2023-03-02 12:47:31.880</td>\n",
       "      <td>2.58</td>\n",
       "      <td>2.94</td>\n",
       "    </tr>\n",
       "    <tr>\n",
       "      <th>202658</th>\n",
       "      <th>245850.00</th>\n",
       "      <td>potok_1-1</td>\n",
       "      <td>2.00</td>\n",
       "      <td>6</td>\n",
       "      <td>0</td>\n",
       "      <td>2023-02-10 08:33:17.910</td>\n",
       "      <td>5.49</td>\n",
       "      <td>6.63</td>\n",
       "    </tr>\n",
       "    <tr>\n",
       "      <th>2323656</th>\n",
       "      <th>2304772.00</th>\n",
       "      <td>potok_3-1</td>\n",
       "      <td>1.00</td>\n",
       "      <td>7</td>\n",
       "      <td>0</td>\n",
       "      <td>2023-03-03 13:35:13.690</td>\n",
       "      <td>2.08</td>\n",
       "      <td>2.61</td>\n",
       "    </tr>\n",
       "    <tr>\n",
       "      <th>115622</th>\n",
       "      <th>165259.00</th>\n",
       "      <td>potok_1-2</td>\n",
       "      <td>2.00</td>\n",
       "      <td>1</td>\n",
       "      <td>0</td>\n",
       "      <td>2023-02-15 14:18:19.550</td>\n",
       "      <td>2.92</td>\n",
       "      <td>3.23</td>\n",
       "    </tr>\n",
       "    <tr>\n",
       "      <th>343261</th>\n",
       "      <th>237985.00</th>\n",
       "      <td>potok_1-1</td>\n",
       "      <td>1.00</td>\n",
       "      <td>9</td>\n",
       "      <td>0</td>\n",
       "      <td>2023-02-15 07:26:05.317</td>\n",
       "      <td>2.48</td>\n",
       "      <td>3.11</td>\n",
       "    </tr>\n",
       "    <tr>\n",
       "      <th>...</th>\n",
       "      <th>...</th>\n",
       "      <td>...</td>\n",
       "      <td>...</td>\n",
       "      <td>...</td>\n",
       "      <td>...</td>\n",
       "      <td>...</td>\n",
       "      <td>...</td>\n",
       "      <td>...</td>\n",
       "    </tr>\n",
       "    <tr>\n",
       "      <th>2627984</th>\n",
       "      <th>2571026.00</th>\n",
       "      <td>potok_3-2</td>\n",
       "      <td>1.00</td>\n",
       "      <td>2</td>\n",
       "      <td>0</td>\n",
       "      <td>2023-03-13 19:29:07.610</td>\n",
       "      <td>3.04</td>\n",
       "      <td>3.68</td>\n",
       "    </tr>\n",
       "    <tr>\n",
       "      <th>2492632</th>\n",
       "      <th>2457336.00</th>\n",
       "      <td>potok_3-1</td>\n",
       "      <td>1.00</td>\n",
       "      <td>6</td>\n",
       "      <td>0</td>\n",
       "      <td>2023-03-09 12:50:04.387</td>\n",
       "      <td>3.13</td>\n",
       "      <td>3.42</td>\n",
       "    </tr>\n",
       "    <tr>\n",
       "      <th>2771801</th>\n",
       "      <th>2812898.00</th>\n",
       "      <td>potok_3-2</td>\n",
       "      <td>2.00</td>\n",
       "      <td>0</td>\n",
       "      <td>0</td>\n",
       "      <td>2023-03-24 07:14:42.087</td>\n",
       "      <td>0.30</td>\n",
       "      <td>0.71</td>\n",
       "    </tr>\n",
       "    <tr>\n",
       "      <th>2343195</th>\n",
       "      <th>2328046.00</th>\n",
       "      <td>potok_1-2</td>\n",
       "      <td>1.00</td>\n",
       "      <td>4</td>\n",
       "      <td>0</td>\n",
       "      <td>2023-03-05 21:14:38.007</td>\n",
       "      <td>9.25</td>\n",
       "      <td>9.69</td>\n",
       "    </tr>\n",
       "    <tr>\n",
       "      <th>272829</th>\n",
       "      <th>11148.00</th>\n",
       "      <td>potok_1-2</td>\n",
       "      <td>3.00</td>\n",
       "      <td>0</td>\n",
       "      <td>0</td>\n",
       "      <td>2023-02-13 10:47:07.257</td>\n",
       "      <td>0.07</td>\n",
       "      <td>10.15</td>\n",
       "    </tr>\n",
       "  </tbody>\n",
       "</table>\n",
       "<p>1106134 rows × 7 columns</p>\n",
       "</div>"
      ],
      "text/plain": [
       "                            Queue  InputPageCount  MessagesInQueue  Retries  \\\n",
       "ID_Process ID_Document                                                        \n",
       "2299375    2270386.00   potok_1-1            1.00                4        0   \n",
       "202658     245850.00    potok_1-1            2.00                6        0   \n",
       "2323656    2304772.00   potok_3-1            1.00                7        0   \n",
       "115622     165259.00    potok_1-2            2.00                1        0   \n",
       "343261     237985.00    potok_1-1            1.00                9        0   \n",
       "...                           ...             ...              ...      ...   \n",
       "2627984    2571026.00   potok_3-2            1.00                2        0   \n",
       "2492632    2457336.00   potok_3-1            1.00                6        0   \n",
       "2771801    2812898.00   potok_3-2            2.00                0        0   \n",
       "2343195    2328046.00   potok_1-2            1.00                4        0   \n",
       "272829     11148.00     potok_1-2            3.00                0        0   \n",
       "\n",
       "                              StartDateTimeUtc  ProcessingDuration_sec  \\\n",
       "ID_Process ID_Document                                                   \n",
       "2299375    2270386.00  2023-03-02 12:47:31.880                    2.58   \n",
       "202658     245850.00   2023-02-10 08:33:17.910                    5.49   \n",
       "2323656    2304772.00  2023-03-03 13:35:13.690                    2.08   \n",
       "115622     165259.00   2023-02-15 14:18:19.550                    2.92   \n",
       "343261     237985.00   2023-02-15 07:26:05.317                    2.48   \n",
       "...                                        ...                     ...   \n",
       "2627984    2571026.00  2023-03-13 19:29:07.610                    3.04   \n",
       "2492632    2457336.00  2023-03-09 12:50:04.387                    3.13   \n",
       "2771801    2812898.00  2023-03-24 07:14:42.087                    0.30   \n",
       "2343195    2328046.00  2023-03-05 21:14:38.007                    9.25   \n",
       "272829     11148.00    2023-02-13 10:47:07.257                    0.07   \n",
       "\n",
       "                        Duration_sec  \n",
       "ID_Process ID_Document                \n",
       "2299375    2270386.00           2.94  \n",
       "202658     245850.00            6.63  \n",
       "2323656    2304772.00           2.61  \n",
       "115622     165259.00            3.23  \n",
       "343261     237985.00            3.11  \n",
       "...                              ...  \n",
       "2627984    2571026.00           3.68  \n",
       "2492632    2457336.00           3.42  \n",
       "2771801    2812898.00           0.71  \n",
       "2343195    2328046.00           9.69  \n",
       "272829     11148.00            10.15  \n",
       "\n",
       "[1106134 rows x 7 columns]"
      ]
     },
     "execution_count": 32,
     "metadata": {},
     "output_type": "execute_result"
    }
   ],
   "source": [
    "df_filtered"
   ]
  },
  {
   "cell_type": "code",
   "execution_count": 33,
   "id": "f8702b5f",
   "metadata": {},
   "outputs": [],
   "source": [
    "profile = ProfileReport(df_filtered, tsmode=False, sortby=\"StartDateTimeUtc\", title=\"Pandas Profiling Report\")"
   ]
  },
  {
   "cell_type": "code",
   "execution_count": 34,
   "id": "97906630",
   "metadata": {},
   "outputs": [],
   "source": [
    "# profile.to_widgets()"
   ]
  },
  {
   "cell_type": "code",
   "execution_count": 35,
   "id": "087314b2",
   "metadata": {
    "scrolled": true
   },
   "outputs": [],
   "source": [
    "# profile.to_notebook_iframe()"
   ]
  },
  {
   "cell_type": "code",
   "execution_count": 36,
   "id": "e10c17a0",
   "metadata": {},
   "outputs": [
    {
     "data": {
      "application/vnd.jupyter.widget-view+json": {
       "model_id": "e23718b5968942edb6ab422554ce93fc",
       "version_major": 2,
       "version_minor": 0
      },
      "text/plain": [
       "Summarize dataset:   0%|          | 0/5 [00:00<?, ?it/s]"
      ]
     },
     "metadata": {},
     "output_type": "display_data"
    },
    {
     "data": {
      "application/vnd.jupyter.widget-view+json": {
       "model_id": "e11d139238814605aa39048b729a837e",
       "version_major": 2,
       "version_minor": 0
      },
      "text/plain": [
       "Generate report structure:   0%|          | 0/1 [00:00<?, ?it/s]"
      ]
     },
     "metadata": {},
     "output_type": "display_data"
    },
    {
     "data": {
      "application/vnd.jupyter.widget-view+json": {
       "model_id": "bbf5e5a814b24544acec26e5ab05605d",
       "version_major": 2,
       "version_minor": 0
      },
      "text/plain": [
       "Render HTML:   0%|          | 0/1 [00:00<?, ?it/s]"
      ]
     },
     "metadata": {},
     "output_type": "display_data"
    },
    {
     "data": {
      "application/vnd.jupyter.widget-view+json": {
       "model_id": "fb467b62644643cdb99e268de14eaf26",
       "version_major": 2,
       "version_minor": 0
      },
      "text/plain": [
       "Export report to file:   0%|          | 0/1 [00:00<?, ?it/s]"
      ]
     },
     "metadata": {},
     "output_type": "display_data"
    }
   ],
   "source": [
    "profile.to_file(\"outputs/report_profiling_without_queue_null_potok_2.html\")"
   ]
  },
  {
   "cell_type": "markdown",
   "id": "a8354cba",
   "metadata": {},
   "source": [
    "## Data Profiling dla potok_0-0"
   ]
  },
  {
   "cell_type": "code",
   "execution_count": 37,
   "id": "53a3e391",
   "metadata": {},
   "outputs": [],
   "source": [
    "df_potok_0_0 = df[df['Queue'].isnull()]"
   ]
  },
  {
   "cell_type": "code",
   "execution_count": 38,
   "id": "889f6d24",
   "metadata": {},
   "outputs": [],
   "source": [
    "profile = ProfileReport(df_potok_0_0, tsmode=False, sortby=\"StartDateTimeUtc\", title=\"Pandas Profiling Report\")"
   ]
  },
  {
   "cell_type": "code",
   "execution_count": 39,
   "id": "07812b58",
   "metadata": {},
   "outputs": [
    {
     "data": {
      "application/vnd.jupyter.widget-view+json": {
       "model_id": "f397452fd4b349cbacd8e4cab65140e8",
       "version_major": 2,
       "version_minor": 0
      },
      "text/plain": [
       "Summarize dataset:   0%|          | 0/5 [00:00<?, ?it/s]"
      ]
     },
     "metadata": {},
     "output_type": "display_data"
    },
    {
     "data": {
      "application/vnd.jupyter.widget-view+json": {
       "model_id": "49caa6fd3b5a43dc910eaf7e35add28e",
       "version_major": 2,
       "version_minor": 0
      },
      "text/plain": [
       "Generate report structure:   0%|          | 0/1 [00:00<?, ?it/s]"
      ]
     },
     "metadata": {},
     "output_type": "display_data"
    },
    {
     "data": {
      "application/vnd.jupyter.widget-view+json": {
       "model_id": "827d3a6e76bd4fe994e60d737de9711e",
       "version_major": 2,
       "version_minor": 0
      },
      "text/plain": [
       "Render HTML:   0%|          | 0/1 [00:00<?, ?it/s]"
      ]
     },
     "metadata": {},
     "output_type": "display_data"
    },
    {
     "data": {
      "application/vnd.jupyter.widget-view+json": {
       "model_id": "14598895d9f64c41a89a172a352f93ae",
       "version_major": 2,
       "version_minor": 0
      },
      "text/plain": [
       "Export report to file:   0%|          | 0/1 [00:00<?, ?it/s]"
      ]
     },
     "metadata": {},
     "output_type": "display_data"
    }
   ],
   "source": [
    "profile.to_file(\"outputs/report_potok_0_0.html\")"
   ]
  },
  {
   "cell_type": "markdown",
   "id": "1586d849",
   "metadata": {},
   "source": [
    "# Data Profiling dla potok_1-1"
   ]
  },
  {
   "cell_type": "code",
   "execution_count": 40,
   "id": "1a6d2bea",
   "metadata": {},
   "outputs": [],
   "source": [
    "df_potok_1_1 = df[df['Queue'] == \"potok_1-1\"]"
   ]
  },
  {
   "cell_type": "code",
   "execution_count": 41,
   "id": "e0763a71",
   "metadata": {},
   "outputs": [],
   "source": [
    "profile = ProfileReport(df_potok_1_1, tsmode=False, sortby=\"StartDateTimeUtc\", title=\"Pandas Profiling Report\")"
   ]
  },
  {
   "cell_type": "code",
   "execution_count": 42,
   "id": "59380b46",
   "metadata": {},
   "outputs": [
    {
     "data": {
      "application/vnd.jupyter.widget-view+json": {
       "model_id": "5914e635032b4924ae92eb11b715a692",
       "version_major": 2,
       "version_minor": 0
      },
      "text/plain": [
       "Summarize dataset:   0%|          | 0/5 [00:00<?, ?it/s]"
      ]
     },
     "metadata": {},
     "output_type": "display_data"
    },
    {
     "data": {
      "application/vnd.jupyter.widget-view+json": {
       "model_id": "ba5609dc57a44867abcec45a0d820cd4",
       "version_major": 2,
       "version_minor": 0
      },
      "text/plain": [
       "Generate report structure:   0%|          | 0/1 [00:00<?, ?it/s]"
      ]
     },
     "metadata": {},
     "output_type": "display_data"
    },
    {
     "data": {
      "application/vnd.jupyter.widget-view+json": {
       "model_id": "2675d90b4b5348e09ae4f310d4e8242c",
       "version_major": 2,
       "version_minor": 0
      },
      "text/plain": [
       "Render HTML:   0%|          | 0/1 [00:00<?, ?it/s]"
      ]
     },
     "metadata": {},
     "output_type": "display_data"
    },
    {
     "data": {
      "application/vnd.jupyter.widget-view+json": {
       "model_id": "e1d29000e425483fa7292c39554f2a1b",
       "version_major": 2,
       "version_minor": 0
      },
      "text/plain": [
       "Export report to file:   0%|          | 0/1 [00:00<?, ?it/s]"
      ]
     },
     "metadata": {},
     "output_type": "display_data"
    }
   ],
   "source": [
    "profile.to_file(\"outputs/report_potok_1_1.html\")"
   ]
  },
  {
   "cell_type": "markdown",
   "id": "718ccf9a",
   "metadata": {},
   "source": [
    "## Data Profiling dla potok_1-2"
   ]
  },
  {
   "cell_type": "code",
   "execution_count": 43,
   "id": "e0a9e4fc",
   "metadata": {},
   "outputs": [],
   "source": [
    "df_potok_1_2 = df[df['Queue'] == \"potok_1-2\"]"
   ]
  },
  {
   "cell_type": "code",
   "execution_count": 44,
   "id": "b7d92ea4",
   "metadata": {},
   "outputs": [],
   "source": [
    "profile = ProfileReport(df_potok_1_2, tsmode=False, sortby=\"StartDateTimeUtc\", title=\"Pandas Profiling Report\")"
   ]
  },
  {
   "cell_type": "code",
   "execution_count": 45,
   "id": "6a486360",
   "metadata": {},
   "outputs": [
    {
     "data": {
      "application/vnd.jupyter.widget-view+json": {
       "model_id": "cf60f52ecf424158858e1821a26a56c9",
       "version_major": 2,
       "version_minor": 0
      },
      "text/plain": [
       "Summarize dataset:   0%|          | 0/5 [00:00<?, ?it/s]"
      ]
     },
     "metadata": {},
     "output_type": "display_data"
    },
    {
     "data": {
      "application/vnd.jupyter.widget-view+json": {
       "model_id": "4de31d5034004a9880b62af013e47217",
       "version_major": 2,
       "version_minor": 0
      },
      "text/plain": [
       "Generate report structure:   0%|          | 0/1 [00:00<?, ?it/s]"
      ]
     },
     "metadata": {},
     "output_type": "display_data"
    },
    {
     "data": {
      "application/vnd.jupyter.widget-view+json": {
       "model_id": "e97eb6d6dc1f4abd9e95b44ff7ff6d86",
       "version_major": 2,
       "version_minor": 0
      },
      "text/plain": [
       "Render HTML:   0%|          | 0/1 [00:00<?, ?it/s]"
      ]
     },
     "metadata": {},
     "output_type": "display_data"
    },
    {
     "data": {
      "application/vnd.jupyter.widget-view+json": {
       "model_id": "fe84c2854c884c7a9e303b876d3cdbed",
       "version_major": 2,
       "version_minor": 0
      },
      "text/plain": [
       "Export report to file:   0%|          | 0/1 [00:00<?, ?it/s]"
      ]
     },
     "metadata": {},
     "output_type": "display_data"
    }
   ],
   "source": [
    "profile.to_file(\"outputs/report_potok_1_2.html\")"
   ]
  },
  {
   "cell_type": "code",
   "execution_count": null,
   "id": "34f02fb7",
   "metadata": {},
   "outputs": [],
   "source": []
  },
  {
   "cell_type": "markdown",
   "id": "e2802069",
   "metadata": {},
   "source": [
    "## Data Profiling dla potok_2-1"
   ]
  },
  {
   "cell_type": "code",
   "execution_count": 46,
   "id": "3f72d03c",
   "metadata": {},
   "outputs": [],
   "source": [
    "df_potok_2_1 = df[df['Queue'] == \"potok_2-1\"]"
   ]
  },
  {
   "cell_type": "code",
   "execution_count": 47,
   "id": "6af6da42",
   "metadata": {},
   "outputs": [],
   "source": [
    "profile = ProfileReport(df_potok_2_1, tsmode=False, sortby=\"StartDateTimeUtc\", title=\"Pandas Profiling Report\")"
   ]
  },
  {
   "cell_type": "code",
   "execution_count": 48,
   "id": "3da942bd",
   "metadata": {},
   "outputs": [
    {
     "data": {
      "application/vnd.jupyter.widget-view+json": {
       "model_id": "2fd35b5f73c54806b1ce16e135b8c793",
       "version_major": 2,
       "version_minor": 0
      },
      "text/plain": [
       "Summarize dataset:   0%|          | 0/5 [00:00<?, ?it/s]"
      ]
     },
     "metadata": {},
     "output_type": "display_data"
    },
    {
     "data": {
      "application/vnd.jupyter.widget-view+json": {
       "model_id": "a32a0655eef54b849d9c7fc6d9c9e9e3",
       "version_major": 2,
       "version_minor": 0
      },
      "text/plain": [
       "Generate report structure:   0%|          | 0/1 [00:00<?, ?it/s]"
      ]
     },
     "metadata": {},
     "output_type": "display_data"
    },
    {
     "data": {
      "application/vnd.jupyter.widget-view+json": {
       "model_id": "910b7717978a4eee9d4e97cdcc1ce7bc",
       "version_major": 2,
       "version_minor": 0
      },
      "text/plain": [
       "Render HTML:   0%|          | 0/1 [00:00<?, ?it/s]"
      ]
     },
     "metadata": {},
     "output_type": "display_data"
    },
    {
     "data": {
      "application/vnd.jupyter.widget-view+json": {
       "model_id": "9be04d29789048e7b65c46f4db4168a0",
       "version_major": 2,
       "version_minor": 0
      },
      "text/plain": [
       "Export report to file:   0%|          | 0/1 [00:00<?, ?it/s]"
      ]
     },
     "metadata": {},
     "output_type": "display_data"
    }
   ],
   "source": [
    "profile.to_file(\"outputs/report_potok_2_1.html\")"
   ]
  },
  {
   "cell_type": "markdown",
   "id": "79fe6bc0",
   "metadata": {},
   "source": [
    "## Data Profiling dla potok_2-2"
   ]
  },
  {
   "cell_type": "code",
   "execution_count": 49,
   "id": "c4283e70",
   "metadata": {},
   "outputs": [],
   "source": [
    "df_potok_2_2 = df[df['Queue'] == \"potok_2-2\"]"
   ]
  },
  {
   "cell_type": "code",
   "execution_count": 50,
   "id": "033bd889",
   "metadata": {},
   "outputs": [],
   "source": [
    "profile = ProfileReport(df_potok_2_2, tsmode=False, sortby=\"StartDateTimeUtc\", title=\"Pandas Profiling Report\")"
   ]
  },
  {
   "cell_type": "code",
   "execution_count": 51,
   "id": "e1db6e51",
   "metadata": {},
   "outputs": [
    {
     "data": {
      "application/vnd.jupyter.widget-view+json": {
       "model_id": "1a099c28606d4e4b9bb020278e5af8bb",
       "version_major": 2,
       "version_minor": 0
      },
      "text/plain": [
       "Summarize dataset:   0%|          | 0/5 [00:00<?, ?it/s]"
      ]
     },
     "metadata": {},
     "output_type": "display_data"
    },
    {
     "data": {
      "application/vnd.jupyter.widget-view+json": {
       "model_id": "33581c6714c94ca9a55b57830e3f43eb",
       "version_major": 2,
       "version_minor": 0
      },
      "text/plain": [
       "Generate report structure:   0%|          | 0/1 [00:00<?, ?it/s]"
      ]
     },
     "metadata": {},
     "output_type": "display_data"
    },
    {
     "data": {
      "application/vnd.jupyter.widget-view+json": {
       "model_id": "d53f5e81eb314338ae5e4e86755c393e",
       "version_major": 2,
       "version_minor": 0
      },
      "text/plain": [
       "Render HTML:   0%|          | 0/1 [00:00<?, ?it/s]"
      ]
     },
     "metadata": {},
     "output_type": "display_data"
    },
    {
     "data": {
      "application/vnd.jupyter.widget-view+json": {
       "model_id": "e4f42bcbd739489590ee2e56b3ce7b63",
       "version_major": 2,
       "version_minor": 0
      },
      "text/plain": [
       "Export report to file:   0%|          | 0/1 [00:00<?, ?it/s]"
      ]
     },
     "metadata": {},
     "output_type": "display_data"
    }
   ],
   "source": [
    "profile.to_file(\"outputs/report_potok_2_2.html\")"
   ]
  },
  {
   "cell_type": "code",
   "execution_count": null,
   "id": "ecc44d56",
   "metadata": {},
   "outputs": [],
   "source": []
  },
  {
   "cell_type": "markdown",
   "id": "689bdc6f",
   "metadata": {},
   "source": [
    "## Data Profiling dla potok_3-1"
   ]
  },
  {
   "cell_type": "code",
   "execution_count": 52,
   "id": "7f787e70",
   "metadata": {},
   "outputs": [],
   "source": [
    "df_potok_3_1 = df[df['Queue'] == \"potok_3-1\"]"
   ]
  },
  {
   "cell_type": "code",
   "execution_count": 53,
   "id": "54942a39",
   "metadata": {},
   "outputs": [],
   "source": [
    "profile = ProfileReport(df_potok_3_1, tsmode=False, sortby=\"StartDateTimeUtc\", title=\"Pandas Profiling Report\")"
   ]
  },
  {
   "cell_type": "code",
   "execution_count": 54,
   "id": "425115de",
   "metadata": {},
   "outputs": [
    {
     "data": {
      "application/vnd.jupyter.widget-view+json": {
       "model_id": "c664075b076e4defaeaeb35a3fbfeb7d",
       "version_major": 2,
       "version_minor": 0
      },
      "text/plain": [
       "Summarize dataset:   0%|          | 0/5 [00:00<?, ?it/s]"
      ]
     },
     "metadata": {},
     "output_type": "display_data"
    },
    {
     "data": {
      "application/vnd.jupyter.widget-view+json": {
       "model_id": "fa56f10171784b829f1f935690be2e9f",
       "version_major": 2,
       "version_minor": 0
      },
      "text/plain": [
       "Generate report structure:   0%|          | 0/1 [00:00<?, ?it/s]"
      ]
     },
     "metadata": {},
     "output_type": "display_data"
    },
    {
     "data": {
      "application/vnd.jupyter.widget-view+json": {
       "model_id": "f16f9a12b28c4254981d1ae9a31a3bb9",
       "version_major": 2,
       "version_minor": 0
      },
      "text/plain": [
       "Render HTML:   0%|          | 0/1 [00:00<?, ?it/s]"
      ]
     },
     "metadata": {},
     "output_type": "display_data"
    },
    {
     "data": {
      "application/vnd.jupyter.widget-view+json": {
       "model_id": "59cdb3de19894733ab454ba353fc87c7",
       "version_major": 2,
       "version_minor": 0
      },
      "text/plain": [
       "Export report to file:   0%|          | 0/1 [00:00<?, ?it/s]"
      ]
     },
     "metadata": {},
     "output_type": "display_data"
    }
   ],
   "source": [
    "profile.to_file(\"outputs/report_potok_3_1.html\")"
   ]
  },
  {
   "cell_type": "code",
   "execution_count": null,
   "id": "cd13b1c3",
   "metadata": {},
   "outputs": [],
   "source": []
  },
  {
   "cell_type": "markdown",
   "id": "0896c9e8",
   "metadata": {},
   "source": [
    "## Data Profiling dla potok_3-2"
   ]
  },
  {
   "cell_type": "code",
   "execution_count": 55,
   "id": "15125402",
   "metadata": {},
   "outputs": [],
   "source": [
    "df_potok_3_2 = df[df['Queue'] == \"potok_3-2\"]"
   ]
  },
  {
   "cell_type": "code",
   "execution_count": 56,
   "id": "4d7aea01",
   "metadata": {},
   "outputs": [],
   "source": [
    "profile = ProfileReport(df_potok_3_2, tsmode=False, sortby=\"StartDateTimeUtc\", title=\"Pandas Profiling Report\")"
   ]
  },
  {
   "cell_type": "code",
   "execution_count": 57,
   "id": "5cb628cf",
   "metadata": {},
   "outputs": [
    {
     "data": {
      "application/vnd.jupyter.widget-view+json": {
       "model_id": "195fb56bcf4c4359a3eb525050d5149e",
       "version_major": 2,
       "version_minor": 0
      },
      "text/plain": [
       "Summarize dataset:   0%|          | 0/5 [00:00<?, ?it/s]"
      ]
     },
     "metadata": {},
     "output_type": "display_data"
    },
    {
     "data": {
      "application/vnd.jupyter.widget-view+json": {
       "model_id": "8aa16dee041f4d919b875874aa17408f",
       "version_major": 2,
       "version_minor": 0
      },
      "text/plain": [
       "Generate report structure:   0%|          | 0/1 [00:00<?, ?it/s]"
      ]
     },
     "metadata": {},
     "output_type": "display_data"
    },
    {
     "data": {
      "application/vnd.jupyter.widget-view+json": {
       "model_id": "6675f1e489564af7b46116a5cbdb4e34",
       "version_major": 2,
       "version_minor": 0
      },
      "text/plain": [
       "Render HTML:   0%|          | 0/1 [00:00<?, ?it/s]"
      ]
     },
     "metadata": {},
     "output_type": "display_data"
    },
    {
     "data": {
      "application/vnd.jupyter.widget-view+json": {
       "model_id": "6ca129020c54498887a3a9c8a96b4086",
       "version_major": 2,
       "version_minor": 0
      },
      "text/plain": [
       "Export report to file:   0%|          | 0/1 [00:00<?, ?it/s]"
      ]
     },
     "metadata": {},
     "output_type": "display_data"
    }
   ],
   "source": [
    "profile.to_file(\"outputs/report_potok_3_2.html\")"
   ]
  },
  {
   "cell_type": "code",
   "execution_count": null,
   "id": "de30a71a",
   "metadata": {},
   "outputs": [],
   "source": []
  },
  {
   "cell_type": "markdown",
   "id": "048c022c",
   "metadata": {},
   "source": [
    "## Czy srednia Duration dla Potok 3-2 jest istotnie rozna miedzy okresami (tygodniami)? Jak tak to statystyki opisowe z \"normalnego\" okresu jako narzedzie monitorowania"
   ]
  },
  {
   "cell_type": "code",
   "execution_count": null,
   "id": "8516d562",
   "metadata": {},
   "outputs": [],
   "source": []
  }
 ],
 "metadata": {
  "kernelspec": {
   "display_name": "Python 3 (ipykernel)",
   "language": "python",
   "name": "python3"
  },
  "language_info": {
   "codemirror_mode": {
    "name": "ipython",
    "version": 3
   },
   "file_extension": ".py",
   "mimetype": "text/x-python",
   "name": "python",
   "nbconvert_exporter": "python",
   "pygments_lexer": "ipython3",
   "version": "3.9.3"
  }
 },
 "nbformat": 4,
 "nbformat_minor": 5
}

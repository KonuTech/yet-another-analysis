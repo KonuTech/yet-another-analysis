{
 "cells": [
  {
   "cell_type": "code",
   "execution_count": 1,
   "id": "358af690",
   "metadata": {},
   "outputs": [],
   "source": [
    "import os\n",
    "import json\n",
    "import numpy as np\n",
    "import pandas as pd\n",
    "import matplotlib.pyplot as plt\n",
    "import seaborn as sns\n",
    "from ydata_profiling import ProfileReport"
   ]
  },
  {
   "cell_type": "code",
   "execution_count": 2,
   "id": "388725ac",
   "metadata": {},
   "outputs": [],
   "source": [
    "from IPython.display import display, HTML\n",
    "import warnings"
   ]
  },
  {
   "cell_type": "code",
   "execution_count": 3,
   "id": "37c2fd7a",
   "metadata": {},
   "outputs": [
    {
     "data": {
      "text/html": [
       "<style>.container { width:100% !important; }</style>"
      ],
      "text/plain": [
       "<IPython.core.display.HTML object>"
      ]
     },
     "metadata": {},
     "output_type": "display_data"
    }
   ],
   "source": [
    "display(HTML(\"<style>.container { width:100% !important; }</style>\"))\n",
    "warnings.filterwarnings('ignore')\n",
    "pd.options.display.float_format = \"{:.2f}\".format"
   ]
  },
  {
   "cell_type": "code",
   "execution_count": 4,
   "id": "65a0dab5",
   "metadata": {},
   "outputs": [],
   "source": [
    "INPUT = 'przetwarzanie_faktur_zadanie.csv'"
   ]
  },
  {
   "cell_type": "code",
   "execution_count": 5,
   "id": "5622f6b1",
   "metadata": {},
   "outputs": [],
   "source": [
    "CONFIG = 'config.json'"
   ]
  },
  {
   "cell_type": "code",
   "execution_count": 6,
   "id": "700a0638",
   "metadata": {},
   "outputs": [
    {
     "name": "stdout",
     "output_type": "stream",
     "text": [
      "C:\\Users\\KonuTech\\PycharmProjects\\yet-another-analysis\\INPUTS\\przetwarzanie_faktur_zadanie.csv\n"
     ]
    }
   ],
   "source": [
    "# Get the absolute path of the file within the INPUTS directory\n",
    "FILE_PATH = os.path.join(os.getcwd(), 'INPUTS', INPUT)\n",
    "\n",
    "# Print the file path\n",
    "print(FILE_PATH)"
   ]
  },
  {
   "cell_type": "code",
   "execution_count": 7,
   "id": "6f6ba24f",
   "metadata": {},
   "outputs": [
    {
     "name": "stdout",
     "output_type": "stream",
     "text": [
      "C:\\Users\\KonuTech\\PycharmProjects\\yet-another-analysis\\CONFIGS\\config.json\n"
     ]
    }
   ],
   "source": [
    "# Get the absolute path of the config within the CONFIGS directory\n",
    "CONFIG_PATH = os.path.join(os.getcwd(), 'CONFIGS', CONFIG)\n",
    "\n",
    "# Print the fileconfig_pathpath\n",
    "print(CONFIG_PATH)"
   ]
  },
  {
   "cell_type": "code",
   "execution_count": 8,
   "id": "58298b71",
   "metadata": {},
   "outputs": [],
   "source": [
    "with open(CONFIG_PATH, encoding='utf-8') as f:\n",
    "    CONFIG = json.load(f)"
   ]
  },
  {
   "cell_type": "code",
   "execution_count": 9,
   "id": "fd4ae10b",
   "metadata": {},
   "outputs": [],
   "source": [
    "# INDEX_COL = CONFIG[\"INPUTS\"][\"INDEX_COLUMNS\"]\n",
    "SEP = CONFIG[\"INPUTS\"][\"SEPARATOR\"]\n",
    "# DECIMAL = CONFIG[\"INPUTS\"][\"DECIMAL\"]\n",
    "ENCODING = CONFIG[\"INPUTS\"][\"ENCODING\"]\n",
    "DATE_COLUMNS = CONFIG[\"INPUTS\"][\"DATE_COLUMNS\"]\n",
    "# FLOAT_PRECISION = CONFIG[\"INPUTS\"][\"FLOAT_PRECISION\"]\n",
    "DTYPE = CONFIG[\"INPUTS\"][\"DTYPE\"]\n",
    "COLUMNS_WITH_NAN_VALUES = CONFIG[\"INPUTS\"][\"COLUMNS_WITH_NAN_VALUES\"]\n",
    "# X_ORDER = CONFIG[\"X_ORDER\"]\n",
    "HUE_ORDER = CONFIG[\"HUE_ORDER\"]\n",
    "COL_ORDER = CONFIG[\"COL_ORDER\"]"
   ]
  },
  {
   "cell_type": "code",
   "execution_count": 10,
   "id": "6153eb6d",
   "metadata": {},
   "outputs": [],
   "source": [
    "# INDEX_COL"
   ]
  },
  {
   "cell_type": "code",
   "execution_count": 11,
   "id": "62c8b703",
   "metadata": {},
   "outputs": [
    {
     "data": {
      "text/plain": [
       "';'"
      ]
     },
     "execution_count": 11,
     "metadata": {},
     "output_type": "execute_result"
    }
   ],
   "source": [
    "SEP"
   ]
  },
  {
   "cell_type": "code",
   "execution_count": 12,
   "id": "fcfcb5cb",
   "metadata": {},
   "outputs": [
    {
     "data": {
      "text/plain": [
       "'utf-8'"
      ]
     },
     "execution_count": 12,
     "metadata": {},
     "output_type": "execute_result"
    }
   ],
   "source": [
    "ENCODING"
   ]
  },
  {
   "cell_type": "code",
   "execution_count": 13,
   "id": "e86414c4",
   "metadata": {},
   "outputs": [
    {
     "data": {
      "text/plain": [
       "['StartDateTimeUtc']"
      ]
     },
     "execution_count": 13,
     "metadata": {},
     "output_type": "execute_result"
    }
   ],
   "source": [
    "DATE_COLUMNS"
   ]
  },
  {
   "cell_type": "code",
   "execution_count": 14,
   "id": "a860cfa5",
   "metadata": {},
   "outputs": [
    {
     "data": {
      "text/plain": [
       "{'ID_Process': 'object',\n",
       " 'ID_Document': 'object',\n",
       " 'Queue': 'object',\n",
       " 'ProcessingDuration': 'int64',\n",
       " 'Duration': 'int64',\n",
       " 'InputPageCount': 'int64',\n",
       " 'MessagesInQueue': 'int64',\n",
       " 'Retries': 'int64'}"
      ]
     },
     "execution_count": 14,
     "metadata": {},
     "output_type": "execute_result"
    }
   ],
   "source": [
    "DTYPE"
   ]
  },
  {
   "cell_type": "code",
   "execution_count": 15,
   "id": "1ad22418",
   "metadata": {},
   "outputs": [
    {
     "data": {
      "text/plain": [
       "['Duration']"
      ]
     },
     "execution_count": 15,
     "metadata": {},
     "output_type": "execute_result"
    }
   ],
   "source": [
    "COLUMNS_WITH_NAN_VALUES"
   ]
  },
  {
   "cell_type": "code",
   "execution_count": 16,
   "id": "b5c6f750",
   "metadata": {},
   "outputs": [],
   "source": [
    "df = pd.read_csv(\n",
    "    filepath_or_buffer=FILE_PATH,\n",
    "#     index_col=INDEX_COL,\n",
    "    sep=SEP,\n",
    "    encoding=ENCODING,\n",
    "    engine=\"c\",\n",
    "    low_memory=False,\n",
    "    parse_dates=DATE_COLUMNS,\n",
    "#     dtype=DTYPE\n",
    ")"
   ]
  },
  {
   "cell_type": "code",
   "execution_count": 17,
   "id": "98bed444",
   "metadata": {},
   "outputs": [
    {
     "name": "stdout",
     "output_type": "stream",
     "text": [
      "<class 'pandas.core.frame.DataFrame'>\n",
      "RangeIndex: 1121190 entries, 0 to 1121189\n",
      "Data columns (total 9 columns):\n",
      " #   Column              Non-Null Count    Dtype         \n",
      "---  ------              --------------    -----         \n",
      " 0   ID_Process          1121190 non-null  int64         \n",
      " 1   Queue               1107824 non-null  object        \n",
      " 2   ID_Document         1107824 non-null  float64       \n",
      " 3   ProcessingDuration  1085406 non-null  float64       \n",
      " 4   Duration            1080011 non-null  float64       \n",
      " 5   InputPageCount      1085406 non-null  float64       \n",
      " 6   MessagesInQueue     1121190 non-null  int64         \n",
      " 7   Retries             1121190 non-null  int64         \n",
      " 8   StartDateTimeUtc    1121190 non-null  datetime64[ns]\n",
      "dtypes: datetime64[ns](1), float64(4), int64(3), object(1)\n",
      "memory usage: 77.0+ MB\n"
     ]
    }
   ],
   "source": [
    "df.info()"
   ]
  },
  {
   "cell_type": "code",
   "execution_count": 18,
   "id": "83cf8262",
   "metadata": {},
   "outputs": [
    {
     "data": {
      "text/html": [
       "<div>\n",
       "<style scoped>\n",
       "    .dataframe tbody tr th:only-of-type {\n",
       "        vertical-align: middle;\n",
       "    }\n",
       "\n",
       "    .dataframe tbody tr th {\n",
       "        vertical-align: top;\n",
       "    }\n",
       "\n",
       "    .dataframe thead th {\n",
       "        text-align: right;\n",
       "    }\n",
       "</style>\n",
       "<table border=\"1\" class=\"dataframe\">\n",
       "  <thead>\n",
       "    <tr style=\"text-align: right;\">\n",
       "      <th></th>\n",
       "      <th>ID_Process</th>\n",
       "      <th>Queue</th>\n",
       "      <th>ID_Document</th>\n",
       "      <th>ProcessingDuration</th>\n",
       "      <th>Duration</th>\n",
       "      <th>InputPageCount</th>\n",
       "      <th>MessagesInQueue</th>\n",
       "      <th>Retries</th>\n",
       "      <th>StartDateTimeUtc</th>\n",
       "    </tr>\n",
       "  </thead>\n",
       "  <tbody>\n",
       "    <tr>\n",
       "      <th>0</th>\n",
       "      <td>2299375</td>\n",
       "      <td>potok_1-1</td>\n",
       "      <td>2270386.00</td>\n",
       "      <td>2583.00</td>\n",
       "      <td>2940.00</td>\n",
       "      <td>1.00</td>\n",
       "      <td>4</td>\n",
       "      <td>0</td>\n",
       "      <td>2023-03-02 12:47:31.880</td>\n",
       "    </tr>\n",
       "    <tr>\n",
       "      <th>1</th>\n",
       "      <td>202658</td>\n",
       "      <td>potok_1-1</td>\n",
       "      <td>245850.00</td>\n",
       "      <td>5486.00</td>\n",
       "      <td>6626.00</td>\n",
       "      <td>2.00</td>\n",
       "      <td>6</td>\n",
       "      <td>0</td>\n",
       "      <td>2023-02-10 08:33:17.910</td>\n",
       "    </tr>\n",
       "    <tr>\n",
       "      <th>2</th>\n",
       "      <td>2323656</td>\n",
       "      <td>potok_3-1</td>\n",
       "      <td>2304772.00</td>\n",
       "      <td>2079.00</td>\n",
       "      <td>2606.00</td>\n",
       "      <td>1.00</td>\n",
       "      <td>7</td>\n",
       "      <td>0</td>\n",
       "      <td>2023-03-03 13:35:13.690</td>\n",
       "    </tr>\n",
       "    <tr>\n",
       "      <th>3</th>\n",
       "      <td>115622</td>\n",
       "      <td>potok_1-2</td>\n",
       "      <td>165259.00</td>\n",
       "      <td>2915.00</td>\n",
       "      <td>3228.00</td>\n",
       "      <td>2.00</td>\n",
       "      <td>1</td>\n",
       "      <td>0</td>\n",
       "      <td>2023-02-15 14:18:19.550</td>\n",
       "    </tr>\n",
       "    <tr>\n",
       "      <th>4</th>\n",
       "      <td>343261</td>\n",
       "      <td>potok_1-1</td>\n",
       "      <td>237985.00</td>\n",
       "      <td>2480.00</td>\n",
       "      <td>3114.00</td>\n",
       "      <td>1.00</td>\n",
       "      <td>9</td>\n",
       "      <td>0</td>\n",
       "      <td>2023-02-15 07:26:05.317</td>\n",
       "    </tr>\n",
       "  </tbody>\n",
       "</table>\n",
       "</div>"
      ],
      "text/plain": [
       "   ID_Process      Queue  ID_Document  ProcessingDuration  Duration  \\\n",
       "0     2299375  potok_1-1   2270386.00             2583.00   2940.00   \n",
       "1      202658  potok_1-1    245850.00             5486.00   6626.00   \n",
       "2     2323656  potok_3-1   2304772.00             2079.00   2606.00   \n",
       "3      115622  potok_1-2    165259.00             2915.00   3228.00   \n",
       "4      343261  potok_1-1    237985.00             2480.00   3114.00   \n",
       "\n",
       "   InputPageCount  MessagesInQueue  Retries        StartDateTimeUtc  \n",
       "0            1.00                4        0 2023-03-02 12:47:31.880  \n",
       "1            2.00                6        0 2023-02-10 08:33:17.910  \n",
       "2            1.00                7        0 2023-03-03 13:35:13.690  \n",
       "3            2.00                1        0 2023-02-15 14:18:19.550  \n",
       "4            1.00                9        0 2023-02-15 07:26:05.317  "
      ]
     },
     "execution_count": 18,
     "metadata": {},
     "output_type": "execute_result"
    }
   ],
   "source": [
    "df.head()"
   ]
  },
  {
   "cell_type": "code",
   "execution_count": 19,
   "id": "1477ae90",
   "metadata": {},
   "outputs": [
    {
     "data": {
      "text/html": [
       "<div>\n",
       "<style scoped>\n",
       "    .dataframe tbody tr th:only-of-type {\n",
       "        vertical-align: middle;\n",
       "    }\n",
       "\n",
       "    .dataframe tbody tr th {\n",
       "        vertical-align: top;\n",
       "    }\n",
       "\n",
       "    .dataframe thead th {\n",
       "        text-align: right;\n",
       "    }\n",
       "</style>\n",
       "<table border=\"1\" class=\"dataframe\">\n",
       "  <thead>\n",
       "    <tr style=\"text-align: right;\">\n",
       "      <th></th>\n",
       "      <th>ID_Process</th>\n",
       "      <th>Queue</th>\n",
       "      <th>ID_Document</th>\n",
       "      <th>ProcessingDuration</th>\n",
       "      <th>Duration</th>\n",
       "      <th>InputPageCount</th>\n",
       "      <th>MessagesInQueue</th>\n",
       "      <th>Retries</th>\n",
       "      <th>StartDateTimeUtc</th>\n",
       "    </tr>\n",
       "  </thead>\n",
       "  <tbody>\n",
       "    <tr>\n",
       "      <th>1121185</th>\n",
       "      <td>2627984</td>\n",
       "      <td>potok_3-2</td>\n",
       "      <td>2571026.00</td>\n",
       "      <td>3040.00</td>\n",
       "      <td>3683.00</td>\n",
       "      <td>1.00</td>\n",
       "      <td>2</td>\n",
       "      <td>0</td>\n",
       "      <td>2023-03-13 19:29:07.610</td>\n",
       "    </tr>\n",
       "    <tr>\n",
       "      <th>1121186</th>\n",
       "      <td>2492632</td>\n",
       "      <td>potok_3-1</td>\n",
       "      <td>2457336.00</td>\n",
       "      <td>3127.00</td>\n",
       "      <td>3425.00</td>\n",
       "      <td>1.00</td>\n",
       "      <td>6</td>\n",
       "      <td>0</td>\n",
       "      <td>2023-03-09 12:50:04.387</td>\n",
       "    </tr>\n",
       "    <tr>\n",
       "      <th>1121187</th>\n",
       "      <td>2771801</td>\n",
       "      <td>potok_3-2</td>\n",
       "      <td>2812898.00</td>\n",
       "      <td>298.00</td>\n",
       "      <td>715.00</td>\n",
       "      <td>2.00</td>\n",
       "      <td>0</td>\n",
       "      <td>0</td>\n",
       "      <td>2023-03-24 07:14:42.087</td>\n",
       "    </tr>\n",
       "    <tr>\n",
       "      <th>1121188</th>\n",
       "      <td>2343195</td>\n",
       "      <td>potok_1-2</td>\n",
       "      <td>2328046.00</td>\n",
       "      <td>9247.00</td>\n",
       "      <td>9689.00</td>\n",
       "      <td>1.00</td>\n",
       "      <td>4</td>\n",
       "      <td>0</td>\n",
       "      <td>2023-03-05 21:14:38.007</td>\n",
       "    </tr>\n",
       "    <tr>\n",
       "      <th>1121189</th>\n",
       "      <td>272829</td>\n",
       "      <td>potok_1-2</td>\n",
       "      <td>11148.00</td>\n",
       "      <td>74.00</td>\n",
       "      <td>10153.00</td>\n",
       "      <td>3.00</td>\n",
       "      <td>0</td>\n",
       "      <td>0</td>\n",
       "      <td>2023-02-13 10:47:07.257</td>\n",
       "    </tr>\n",
       "  </tbody>\n",
       "</table>\n",
       "</div>"
      ],
      "text/plain": [
       "         ID_Process      Queue  ID_Document  ProcessingDuration  Duration  \\\n",
       "1121185     2627984  potok_3-2   2571026.00             3040.00   3683.00   \n",
       "1121186     2492632  potok_3-1   2457336.00             3127.00   3425.00   \n",
       "1121187     2771801  potok_3-2   2812898.00              298.00    715.00   \n",
       "1121188     2343195  potok_1-2   2328046.00             9247.00   9689.00   \n",
       "1121189      272829  potok_1-2     11148.00               74.00  10153.00   \n",
       "\n",
       "         InputPageCount  MessagesInQueue  Retries        StartDateTimeUtc  \n",
       "1121185            1.00                2        0 2023-03-13 19:29:07.610  \n",
       "1121186            1.00                6        0 2023-03-09 12:50:04.387  \n",
       "1121187            2.00                0        0 2023-03-24 07:14:42.087  \n",
       "1121188            1.00                4        0 2023-03-05 21:14:38.007  \n",
       "1121189            3.00                0        0 2023-02-13 10:47:07.257  "
      ]
     },
     "execution_count": 19,
     "metadata": {},
     "output_type": "execute_result"
    }
   ],
   "source": [
    "df.tail()"
   ]
  },
  {
   "cell_type": "code",
   "execution_count": 20,
   "id": "d0da5659",
   "metadata": {},
   "outputs": [
    {
     "data": {
      "text/html": [
       "<div>\n",
       "<style scoped>\n",
       "    .dataframe tbody tr th:only-of-type {\n",
       "        vertical-align: middle;\n",
       "    }\n",
       "\n",
       "    .dataframe tbody tr th {\n",
       "        vertical-align: top;\n",
       "    }\n",
       "\n",
       "    .dataframe thead th {\n",
       "        text-align: right;\n",
       "    }\n",
       "</style>\n",
       "<table border=\"1\" class=\"dataframe\">\n",
       "  <thead>\n",
       "    <tr style=\"text-align: right;\">\n",
       "      <th></th>\n",
       "      <th>ID_Process</th>\n",
       "      <th>ID_Document</th>\n",
       "      <th>ProcessingDuration</th>\n",
       "      <th>Duration</th>\n",
       "      <th>InputPageCount</th>\n",
       "      <th>MessagesInQueue</th>\n",
       "      <th>Retries</th>\n",
       "    </tr>\n",
       "  </thead>\n",
       "  <tbody>\n",
       "    <tr>\n",
       "      <th>count</th>\n",
       "      <td>1121190.00</td>\n",
       "      <td>1107824.00</td>\n",
       "      <td>1085406.00</td>\n",
       "      <td>1080011.00</td>\n",
       "      <td>1085406.00</td>\n",
       "      <td>1121190.00</td>\n",
       "      <td>1121190.00</td>\n",
       "    </tr>\n",
       "    <tr>\n",
       "      <th>mean</th>\n",
       "      <td>1623558.71</td>\n",
       "      <td>1616588.28</td>\n",
       "      <td>4187.53</td>\n",
       "      <td>25350.38</td>\n",
       "      <td>1.21</td>\n",
       "      <td>9.01</td>\n",
       "      <td>0.00</td>\n",
       "    </tr>\n",
       "    <tr>\n",
       "      <th>std</th>\n",
       "      <td>1131326.47</td>\n",
       "      <td>1122477.06</td>\n",
       "      <td>5195.52</td>\n",
       "      <td>323548.18</td>\n",
       "      <td>2.13</td>\n",
       "      <td>52.46</td>\n",
       "      <td>0.09</td>\n",
       "    </tr>\n",
       "    <tr>\n",
       "      <th>min</th>\n",
       "      <td>1.00</td>\n",
       "      <td>3.00</td>\n",
       "      <td>34.00</td>\n",
       "      <td>271.00</td>\n",
       "      <td>1.00</td>\n",
       "      <td>0.00</td>\n",
       "      <td>0.00</td>\n",
       "    </tr>\n",
       "    <tr>\n",
       "      <th>25%</th>\n",
       "      <td>280298.25</td>\n",
       "      <td>276786.75</td>\n",
       "      <td>2264.00</td>\n",
       "      <td>2714.00</td>\n",
       "      <td>1.00</td>\n",
       "      <td>1.00</td>\n",
       "      <td>0.00</td>\n",
       "    </tr>\n",
       "    <tr>\n",
       "      <th>50%</th>\n",
       "      <td>2311131.50</td>\n",
       "      <td>2295873.50</td>\n",
       "      <td>2973.00</td>\n",
       "      <td>3707.00</td>\n",
       "      <td>1.00</td>\n",
       "      <td>3.00</td>\n",
       "      <td>0.00</td>\n",
       "    </tr>\n",
       "    <tr>\n",
       "      <th>75%</th>\n",
       "      <td>2591428.75</td>\n",
       "      <td>2572823.25</td>\n",
       "      <td>4841.00</td>\n",
       "      <td>7064.00</td>\n",
       "      <td>1.00</td>\n",
       "      <td>7.00</td>\n",
       "      <td>0.00</td>\n",
       "    </tr>\n",
       "    <tr>\n",
       "      <th>max</th>\n",
       "      <td>2883900.00</td>\n",
       "      <td>2861842.00</td>\n",
       "      <td>1422420.00</td>\n",
       "      <td>45199914.00</td>\n",
       "      <td>736.00</td>\n",
       "      <td>2018.00</td>\n",
       "      <td>9.00</td>\n",
       "    </tr>\n",
       "  </tbody>\n",
       "</table>\n",
       "</div>"
      ],
      "text/plain": [
       "       ID_Process  ID_Document  ProcessingDuration    Duration  \\\n",
       "count  1121190.00   1107824.00          1085406.00  1080011.00   \n",
       "mean   1623558.71   1616588.28             4187.53    25350.38   \n",
       "std    1131326.47   1122477.06             5195.52   323548.18   \n",
       "min          1.00         3.00               34.00      271.00   \n",
       "25%     280298.25    276786.75             2264.00     2714.00   \n",
       "50%    2311131.50   2295873.50             2973.00     3707.00   \n",
       "75%    2591428.75   2572823.25             4841.00     7064.00   \n",
       "max    2883900.00   2861842.00          1422420.00 45199914.00   \n",
       "\n",
       "       InputPageCount  MessagesInQueue    Retries  \n",
       "count      1085406.00       1121190.00 1121190.00  \n",
       "mean             1.21             9.01       0.00  \n",
       "std              2.13            52.46       0.09  \n",
       "min              1.00             0.00       0.00  \n",
       "25%              1.00             1.00       0.00  \n",
       "50%              1.00             3.00       0.00  \n",
       "75%              1.00             7.00       0.00  \n",
       "max            736.00          2018.00       9.00  "
      ]
     },
     "execution_count": 20,
     "metadata": {},
     "output_type": "execute_result"
    }
   ],
   "source": [
    "df.describe()"
   ]
  },
  {
   "cell_type": "code",
   "execution_count": 21,
   "id": "46c99e56",
   "metadata": {},
   "outputs": [
    {
     "data": {
      "text/plain": [
       "ID_Process                0\n",
       "Queue                 13366\n",
       "ID_Document           13366\n",
       "ProcessingDuration    35784\n",
       "Duration              41179\n",
       "InputPageCount        35784\n",
       "MessagesInQueue           0\n",
       "Retries                   0\n",
       "StartDateTimeUtc          0\n",
       "dtype: int64"
      ]
     },
     "execution_count": 21,
     "metadata": {},
     "output_type": "execute_result"
    }
   ],
   "source": [
    "df.isnull().sum()"
   ]
  },
  {
   "cell_type": "code",
   "execution_count": 22,
   "id": "307c3acd",
   "metadata": {},
   "outputs": [
    {
     "name": "stdout",
     "output_type": "stream",
     "text": [
      "POTOK: 0 potok_1-1\n",
      "ID_Process                0\n",
      "Queue                     0\n",
      "ID_Document               0\n",
      "ProcessingDuration    10562\n",
      "Duration              11557\n",
      "InputPageCount        10562\n",
      "MessagesInQueue           0\n",
      "Retries                   0\n",
      "StartDateTimeUtc          0\n",
      "dtype: int64 \n",
      "\n",
      "POTOK: 1 potok_3-1\n",
      "ID_Process               0\n",
      "Queue                    0\n",
      "ID_Document              0\n",
      "ProcessingDuration    5769\n",
      "Duration              6864\n",
      "InputPageCount        5769\n",
      "MessagesInQueue          0\n",
      "Retries                  0\n",
      "StartDateTimeUtc         0\n",
      "dtype: int64 \n",
      "\n",
      "POTOK: 2 potok_1-2\n",
      "ID_Process                0\n",
      "Queue                     0\n",
      "ID_Document               0\n",
      "ProcessingDuration    13325\n",
      "Duration              14206\n",
      "InputPageCount        13325\n",
      "MessagesInQueue           0\n",
      "Retries                   0\n",
      "StartDateTimeUtc          0\n",
      "dtype: int64 \n",
      "\n",
      "POTOK: 3 potok_3-2\n",
      "ID_Process               0\n",
      "Queue                    0\n",
      "ID_Document              0\n",
      "ProcessingDuration    5966\n",
      "Duration              7814\n",
      "InputPageCount        5966\n",
      "MessagesInQueue          0\n",
      "Retries                  0\n",
      "StartDateTimeUtc         0\n",
      "dtype: int64 \n",
      "\n",
      "POTOK: 4 nan\n",
      "ID_Process           0.00\n",
      "Queue                0.00\n",
      "ID_Document          0.00\n",
      "ProcessingDuration   0.00\n",
      "Duration             0.00\n",
      "InputPageCount       0.00\n",
      "MessagesInQueue      0.00\n",
      "Retries              0.00\n",
      "StartDateTimeUtc     0.00\n",
      "dtype: float64 \n",
      "\n",
      "POTOK: 5 potok_2-1\n",
      "ID_Process              0\n",
      "Queue                   0\n",
      "ID_Document             0\n",
      "ProcessingDuration     94\n",
      "Duration              137\n",
      "InputPageCount         94\n",
      "MessagesInQueue         0\n",
      "Retries                 0\n",
      "StartDateTimeUtc        0\n",
      "dtype: int64 \n",
      "\n",
      "POTOK: 6 potok_2-2\n",
      "ID_Process             0\n",
      "Queue                  0\n",
      "ID_Document            0\n",
      "ProcessingDuration    68\n",
      "Duration              71\n",
      "InputPageCount        68\n",
      "MessagesInQueue        0\n",
      "Retries                0\n",
      "StartDateTimeUtc       0\n",
      "dtype: int64 \n",
      "\n"
     ]
    }
   ],
   "source": [
    "for i, v in enumerate(df[\"Queue\"].unique()):\n",
    "    print(\"POTOK:\", i, v)\n",
    "    print(df[df[\"Queue\"] == v].isnull().sum(), \"\\n\")"
   ]
  },
  {
   "cell_type": "markdown",
   "id": "60e72d71",
   "metadata": {},
   "source": [
    "## preprocessing"
   ]
  },
  {
   "cell_type": "code",
   "execution_count": 23,
   "id": "797d6be2",
   "metadata": {},
   "outputs": [],
   "source": [
    "# Convert the time values to minutes, hours, and days\n",
    "df['ProcessingDuration_sec'] = df['ProcessingDuration'] / 1000\n",
    "# df['ProcessingDuration_min'] = df['ProcessingDuration'] / (1000 * 60)\n",
    "# df['ProcessingDuration_hours'] = df['ProcessingDuration'] / (1000 * 60 * 60)\n",
    "# df['ProcessingDuration_days'] = df['ProcessingDuration'] / (1000 * 60 * 60 * 24)"
   ]
  },
  {
   "cell_type": "code",
   "execution_count": 24,
   "id": "da3e92de",
   "metadata": {},
   "outputs": [],
   "source": [
    "# Convert the time values to minutes, hours, and days\n",
    "df['Duration_sec'] = df['Duration'] / 1000\n",
    "# df['Duration_min'] = df['Duration'] / (1000 * 60)\n",
    "# df['Duration_hours'] = df['Duration'] / (1000 * 60 * 60)\n",
    "# df['Duration_days'] = df['Duration'] / (1000 * 60 * 60 * 24)"
   ]
  },
  {
   "cell_type": "code",
   "execution_count": 25,
   "id": "18e7e76b",
   "metadata": {},
   "outputs": [],
   "source": [
    "# df[['potok']] = 'potok_' + df['Queue'].str.extract(r'^potok_(\\d+)')"
   ]
  },
  {
   "cell_type": "code",
   "execution_count": 26,
   "id": "cc23e5ef",
   "metadata": {},
   "outputs": [],
   "source": [
    "# df[\n",
    "#     [\n",
    "#         'year',\n",
    "#         'month',\n",
    "#         'day',\n",
    "#         'hour',\n",
    "#         'minute',\n",
    "#         'second',\n",
    "#         'microsecond'\n",
    "#     ]\n",
    "# ] = pd.to_datetime(df['StartDateTimeUtc']).dt.strftime('%Y-%m-%d %H:%M:%S.%f').str.extract(r'(\\d{4})-(\\d{2})-(\\d{2})\\s(\\d{2}):(\\d{2}):(\\d{2})\\.(\\d{6})')\n"
   ]
  },
  {
   "cell_type": "code",
   "execution_count": 27,
   "id": "acb0b6ad",
   "metadata": {},
   "outputs": [],
   "source": [
    "df.drop(columns=['ProcessingDuration', 'Duration'], inplace=True)"
   ]
  },
  {
   "cell_type": "code",
   "execution_count": 28,
   "id": "53e83233",
   "metadata": {},
   "outputs": [
    {
     "name": "stdout",
     "output_type": "stream",
     "text": [
      "<class 'pandas.core.frame.DataFrame'>\n",
      "RangeIndex: 1121190 entries, 0 to 1121189\n",
      "Data columns (total 9 columns):\n",
      " #   Column                  Non-Null Count    Dtype         \n",
      "---  ------                  --------------    -----         \n",
      " 0   ID_Process              1121190 non-null  int64         \n",
      " 1   Queue                   1107824 non-null  object        \n",
      " 2   ID_Document             1107824 non-null  float64       \n",
      " 3   InputPageCount          1085406 non-null  float64       \n",
      " 4   MessagesInQueue         1121190 non-null  int64         \n",
      " 5   Retries                 1121190 non-null  int64         \n",
      " 6   StartDateTimeUtc        1121190 non-null  datetime64[ns]\n",
      " 7   ProcessingDuration_sec  1085406 non-null  float64       \n",
      " 8   Duration_sec            1080011 non-null  float64       \n",
      "dtypes: datetime64[ns](1), float64(4), int64(3), object(1)\n",
      "memory usage: 77.0+ MB\n"
     ]
    }
   ],
   "source": [
    "df.info()"
   ]
  },
  {
   "cell_type": "code",
   "execution_count": 29,
   "id": "8dd11ea0",
   "metadata": {},
   "outputs": [
    {
     "data": {
      "text/html": [
       "<div>\n",
       "<style scoped>\n",
       "    .dataframe tbody tr th:only-of-type {\n",
       "        vertical-align: middle;\n",
       "    }\n",
       "\n",
       "    .dataframe tbody tr th {\n",
       "        vertical-align: top;\n",
       "    }\n",
       "\n",
       "    .dataframe thead th {\n",
       "        text-align: right;\n",
       "    }\n",
       "</style>\n",
       "<table border=\"1\" class=\"dataframe\">\n",
       "  <thead>\n",
       "    <tr style=\"text-align: right;\">\n",
       "      <th></th>\n",
       "      <th>ID_Process</th>\n",
       "      <th>Queue</th>\n",
       "      <th>ID_Document</th>\n",
       "      <th>InputPageCount</th>\n",
       "      <th>MessagesInQueue</th>\n",
       "      <th>Retries</th>\n",
       "      <th>StartDateTimeUtc</th>\n",
       "      <th>ProcessingDuration_sec</th>\n",
       "      <th>Duration_sec</th>\n",
       "    </tr>\n",
       "  </thead>\n",
       "  <tbody>\n",
       "    <tr>\n",
       "      <th>203744</th>\n",
       "      <td>2300543</td>\n",
       "      <td>potok_1-1</td>\n",
       "      <td>2284579.00</td>\n",
       "      <td>1.00</td>\n",
       "      <td>6</td>\n",
       "      <td>0</td>\n",
       "      <td>2023-03-02 10:25:57.913</td>\n",
       "      <td>2.62</td>\n",
       "      <td>NaN</td>\n",
       "    </tr>\n",
       "    <tr>\n",
       "      <th>141588</th>\n",
       "      <td>12743</td>\n",
       "      <td>potok_1-1</td>\n",
       "      <td>88337.00</td>\n",
       "      <td>1.00</td>\n",
       "      <td>4</td>\n",
       "      <td>0</td>\n",
       "      <td>2023-02-08 07:11:57.680</td>\n",
       "      <td>2.54</td>\n",
       "      <td>2.86</td>\n",
       "    </tr>\n",
       "    <tr>\n",
       "      <th>1072513</th>\n",
       "      <td>177108</td>\n",
       "      <td>NaN</td>\n",
       "      <td>NaN</td>\n",
       "      <td>1.00</td>\n",
       "      <td>0</td>\n",
       "      <td>0</td>\n",
       "      <td>2023-02-12 13:58:01.777</td>\n",
       "      <td>2.96</td>\n",
       "      <td>4.87</td>\n",
       "    </tr>\n",
       "    <tr>\n",
       "      <th>836338</th>\n",
       "      <td>404759</td>\n",
       "      <td>potok_3-2</td>\n",
       "      <td>543741.00</td>\n",
       "      <td>1.00</td>\n",
       "      <td>0</td>\n",
       "      <td>0</td>\n",
       "      <td>2023-02-02 17:20:55.480</td>\n",
       "      <td>4.26</td>\n",
       "      <td>5.53</td>\n",
       "    </tr>\n",
       "    <tr>\n",
       "      <th>790753</th>\n",
       "      <td>2318733</td>\n",
       "      <td>potok_1-2</td>\n",
       "      <td>2294597.00</td>\n",
       "      <td>1.00</td>\n",
       "      <td>2</td>\n",
       "      <td>0</td>\n",
       "      <td>2023-03-03 13:51:59.700</td>\n",
       "      <td>4.92</td>\n",
       "      <td>5.35</td>\n",
       "    </tr>\n",
       "    <tr>\n",
       "      <th>...</th>\n",
       "      <td>...</td>\n",
       "      <td>...</td>\n",
       "      <td>...</td>\n",
       "      <td>...</td>\n",
       "      <td>...</td>\n",
       "      <td>...</td>\n",
       "      <td>...</td>\n",
       "      <td>...</td>\n",
       "      <td>...</td>\n",
       "    </tr>\n",
       "    <tr>\n",
       "      <th>188123</th>\n",
       "      <td>2814737</td>\n",
       "      <td>potok_3-1</td>\n",
       "      <td>2665054.00</td>\n",
       "      <td>1.00</td>\n",
       "      <td>4</td>\n",
       "      <td>0</td>\n",
       "      <td>2023-03-24 12:52:30.563</td>\n",
       "      <td>2.86</td>\n",
       "      <td>3.15</td>\n",
       "    </tr>\n",
       "    <tr>\n",
       "      <th>64553</th>\n",
       "      <td>2641272</td>\n",
       "      <td>potok_3-1</td>\n",
       "      <td>2496118.00</td>\n",
       "      <td>1.00</td>\n",
       "      <td>1</td>\n",
       "      <td>0</td>\n",
       "      <td>2023-03-16 13:53:57.050</td>\n",
       "      <td>2.42</td>\n",
       "      <td>2.79</td>\n",
       "    </tr>\n",
       "    <tr>\n",
       "      <th>485932</th>\n",
       "      <td>305655</td>\n",
       "      <td>potok_1-2</td>\n",
       "      <td>216492.00</td>\n",
       "      <td>1.00</td>\n",
       "      <td>9</td>\n",
       "      <td>0</td>\n",
       "      <td>2023-02-10 08:31:53.363</td>\n",
       "      <td>7.67</td>\n",
       "      <td>14.45</td>\n",
       "    </tr>\n",
       "    <tr>\n",
       "      <th>1016725</th>\n",
       "      <td>2407248</td>\n",
       "      <td>potok_3-2</td>\n",
       "      <td>2379241.00</td>\n",
       "      <td>1.00</td>\n",
       "      <td>0</td>\n",
       "      <td>0</td>\n",
       "      <td>2023-03-07 18:43:04.907</td>\n",
       "      <td>11.62</td>\n",
       "      <td>54.24</td>\n",
       "    </tr>\n",
       "    <tr>\n",
       "      <th>1008175</th>\n",
       "      <td>41328</td>\n",
       "      <td>potok_1-1</td>\n",
       "      <td>54299.00</td>\n",
       "      <td>1.00</td>\n",
       "      <td>1</td>\n",
       "      <td>0</td>\n",
       "      <td>2023-02-20 05:38:40.713</td>\n",
       "      <td>2.33</td>\n",
       "      <td>2.71</td>\n",
       "    </tr>\n",
       "  </tbody>\n",
       "</table>\n",
       "<p>560595 rows × 9 columns</p>\n",
       "</div>"
      ],
      "text/plain": [
       "         ID_Process      Queue  ID_Document  InputPageCount  MessagesInQueue  \\\n",
       "203744      2300543  potok_1-1   2284579.00            1.00                6   \n",
       "141588        12743  potok_1-1     88337.00            1.00                4   \n",
       "1072513      177108        NaN          NaN            1.00                0   \n",
       "836338       404759  potok_3-2    543741.00            1.00                0   \n",
       "790753      2318733  potok_1-2   2294597.00            1.00                2   \n",
       "...             ...        ...          ...             ...              ...   \n",
       "188123      2814737  potok_3-1   2665054.00            1.00                4   \n",
       "64553       2641272  potok_3-1   2496118.00            1.00                1   \n",
       "485932       305655  potok_1-2    216492.00            1.00                9   \n",
       "1016725     2407248  potok_3-2   2379241.00            1.00                0   \n",
       "1008175       41328  potok_1-1     54299.00            1.00                1   \n",
       "\n",
       "         Retries        StartDateTimeUtc  ProcessingDuration_sec  Duration_sec  \n",
       "203744         0 2023-03-02 10:25:57.913                    2.62           NaN  \n",
       "141588         0 2023-02-08 07:11:57.680                    2.54          2.86  \n",
       "1072513        0 2023-02-12 13:58:01.777                    2.96          4.87  \n",
       "836338         0 2023-02-02 17:20:55.480                    4.26          5.53  \n",
       "790753         0 2023-03-03 13:51:59.700                    4.92          5.35  \n",
       "...          ...                     ...                     ...           ...  \n",
       "188123         0 2023-03-24 12:52:30.563                    2.86          3.15  \n",
       "64553          0 2023-03-16 13:53:57.050                    2.42          2.79  \n",
       "485932         0 2023-02-10 08:31:53.363                    7.67         14.45  \n",
       "1016725        0 2023-03-07 18:43:04.907                   11.62         54.24  \n",
       "1008175        0 2023-02-20 05:38:40.713                    2.33          2.71  \n",
       "\n",
       "[560595 rows x 9 columns]"
      ]
     },
     "execution_count": 29,
     "metadata": {},
     "output_type": "execute_result"
    }
   ],
   "source": [
    "df_sample = df.sample(frac=0.5, replace=False)\n",
    "df_sample"
   ]
  },
  {
   "cell_type": "code",
   "execution_count": 30,
   "id": "fa3d6c36",
   "metadata": {},
   "outputs": [],
   "source": [
    "# profile = ProfileReport(df_sample, tsmode=False, sortby=\"StartDateTimeUtc\", title=\"Pandas Profiling Report\")"
   ]
  },
  {
   "cell_type": "code",
   "execution_count": 56,
   "id": "f8702b5f",
   "metadata": {},
   "outputs": [],
   "source": [
    "profile = ProfileReport(df[~df['Queue'].isnull()], tsmode=False, sortby=\"StartDateTimeUtc\", title=\"Pandas Profiling Report\")"
   ]
  },
  {
   "cell_type": "code",
   "execution_count": 57,
   "id": "97906630",
   "metadata": {},
   "outputs": [],
   "source": [
    "# profile.to_widgets()"
   ]
  },
  {
   "cell_type": "code",
   "execution_count": 58,
   "id": "087314b2",
   "metadata": {
    "scrolled": true
   },
   "outputs": [],
   "source": [
    "# profile.to_notebook_iframe()"
   ]
  },
  {
   "cell_type": "code",
   "execution_count": 59,
   "id": "e10c17a0",
   "metadata": {},
   "outputs": [
    {
     "data": {
      "application/vnd.jupyter.widget-view+json": {
       "model_id": "ab7aff54b11f4357b3f522602bb7a8d6",
       "version_major": 2,
       "version_minor": 0
      },
      "text/plain": [
       "Summarize dataset:   0%|          | 0/5 [00:00<?, ?it/s]"
      ]
     },
     "metadata": {},
     "output_type": "display_data"
    },
    {
     "data": {
      "application/vnd.jupyter.widget-view+json": {
       "model_id": "f1da0902a2114e8eabd1ce6ff2d39223",
       "version_major": 2,
       "version_minor": 0
      },
      "text/plain": [
       "Generate report structure:   0%|          | 0/1 [00:00<?, ?it/s]"
      ]
     },
     "metadata": {},
     "output_type": "display_data"
    },
    {
     "data": {
      "application/vnd.jupyter.widget-view+json": {
       "model_id": "71267de0d64142a6a6407d62ce8837a8",
       "version_major": 2,
       "version_minor": 0
      },
      "text/plain": [
       "Render HTML:   0%|          | 0/1 [00:00<?, ?it/s]"
      ]
     },
     "metadata": {},
     "output_type": "display_data"
    },
    {
     "data": {
      "application/vnd.jupyter.widget-view+json": {
       "model_id": "046ac86be9d5497aa6ff635d1f1df8a1",
       "version_major": 2,
       "version_minor": 0
      },
      "text/plain": [
       "Export report to file:   0%|          | 0/1 [00:00<?, ?it/s]"
      ]
     },
     "metadata": {},
     "output_type": "display_data"
    }
   ],
   "source": [
    "profile.to_file(\"outputs/report_profiling.html\")"
   ]
  },
  {
   "cell_type": "markdown",
   "id": "48b8cc09",
   "metadata": {},
   "source": [
    "## Data Profiling dla potok_0-0"
   ]
  },
  {
   "cell_type": "code",
   "execution_count": 35,
   "id": "cf4642c7",
   "metadata": {},
   "outputs": [],
   "source": [
    "df_potok_0_0 = df[df['Queue'].isnull()]"
   ]
  },
  {
   "cell_type": "code",
   "execution_count": 36,
   "id": "6929e8b8",
   "metadata": {},
   "outputs": [],
   "source": [
    "profile = ProfileReport(df_potok_0_0, tsmode=False, sortby=\"StartDateTimeUtc\", title=\"Pandas Profiling Report\")"
   ]
  },
  {
   "cell_type": "code",
   "execution_count": 37,
   "id": "1af74181",
   "metadata": {},
   "outputs": [
    {
     "data": {
      "application/vnd.jupyter.widget-view+json": {
       "model_id": "df577109276f4ddd94ee181e93bb4917",
       "version_major": 2,
       "version_minor": 0
      },
      "text/plain": [
       "Summarize dataset:   0%|          | 0/5 [00:00<?, ?it/s]"
      ]
     },
     "metadata": {},
     "output_type": "display_data"
    },
    {
     "data": {
      "application/vnd.jupyter.widget-view+json": {
       "model_id": "51d7a3b5f6484609b51efd6294cb1da8",
       "version_major": 2,
       "version_minor": 0
      },
      "text/plain": [
       "Generate report structure:   0%|          | 0/1 [00:00<?, ?it/s]"
      ]
     },
     "metadata": {},
     "output_type": "display_data"
    },
    {
     "data": {
      "application/vnd.jupyter.widget-view+json": {
       "model_id": "0b39d16dfc044e0e930cb27280f32023",
       "version_major": 2,
       "version_minor": 0
      },
      "text/plain": [
       "Render HTML:   0%|          | 0/1 [00:00<?, ?it/s]"
      ]
     },
     "metadata": {},
     "output_type": "display_data"
    },
    {
     "data": {
      "application/vnd.jupyter.widget-view+json": {
       "model_id": "747d44ae3e23462b98beeff2783f2f7e",
       "version_major": 2,
       "version_minor": 0
      },
      "text/plain": [
       "Export report to file:   0%|          | 0/1 [00:00<?, ?it/s]"
      ]
     },
     "metadata": {},
     "output_type": "display_data"
    }
   ],
   "source": [
    "profile.to_file(\"outputs/report_potok_0_0.html\")"
   ]
  },
  {
   "cell_type": "markdown",
   "id": "96382d89",
   "metadata": {},
   "source": [
    "# Data Profiling dla potok_1-1"
   ]
  },
  {
   "cell_type": "code",
   "execution_count": 38,
   "id": "d460e84b",
   "metadata": {},
   "outputs": [],
   "source": [
    "df_potok_1_1 = df[df['Queue'] == \"potok_1-1\"]"
   ]
  },
  {
   "cell_type": "code",
   "execution_count": 39,
   "id": "fb728a65",
   "metadata": {},
   "outputs": [],
   "source": [
    "profile = ProfileReport(df_potok_1_1, tsmode=False, sortby=\"StartDateTimeUtc\", title=\"Pandas Profiling Report\")"
   ]
  },
  {
   "cell_type": "code",
   "execution_count": 40,
   "id": "027419f8",
   "metadata": {},
   "outputs": [
    {
     "data": {
      "application/vnd.jupyter.widget-view+json": {
       "model_id": "61fa3f757ebc4feb99886d13b89dfc5c",
       "version_major": 2,
       "version_minor": 0
      },
      "text/plain": [
       "Summarize dataset:   0%|          | 0/5 [00:00<?, ?it/s]"
      ]
     },
     "metadata": {},
     "output_type": "display_data"
    },
    {
     "data": {
      "application/vnd.jupyter.widget-view+json": {
       "model_id": "cf23a8ceeddf48c0992803546417b7fc",
       "version_major": 2,
       "version_minor": 0
      },
      "text/plain": [
       "Generate report structure:   0%|          | 0/1 [00:00<?, ?it/s]"
      ]
     },
     "metadata": {},
     "output_type": "display_data"
    },
    {
     "data": {
      "application/vnd.jupyter.widget-view+json": {
       "model_id": "03c3f2df57dd480196c30a033dd8862c",
       "version_major": 2,
       "version_minor": 0
      },
      "text/plain": [
       "Render HTML:   0%|          | 0/1 [00:00<?, ?it/s]"
      ]
     },
     "metadata": {},
     "output_type": "display_data"
    },
    {
     "data": {
      "application/vnd.jupyter.widget-view+json": {
       "model_id": "f699397346094fd5b3f2abdcf78072b5",
       "version_major": 2,
       "version_minor": 0
      },
      "text/plain": [
       "Export report to file:   0%|          | 0/1 [00:00<?, ?it/s]"
      ]
     },
     "metadata": {},
     "output_type": "display_data"
    }
   ],
   "source": [
    "profile.to_file(\"outputs/report_potok_1_1.html\")"
   ]
  },
  {
   "cell_type": "markdown",
   "id": "17d4956e",
   "metadata": {},
   "source": [
    "## Data Profiling dla potok_1-2"
   ]
  },
  {
   "cell_type": "code",
   "execution_count": 41,
   "id": "dd70db33",
   "metadata": {},
   "outputs": [],
   "source": [
    "df_potok_1_2 = df[df['Queue'] == \"potok_1-2\"]"
   ]
  },
  {
   "cell_type": "code",
   "execution_count": 42,
   "id": "6a7c8d0a",
   "metadata": {},
   "outputs": [],
   "source": [
    "profile = ProfileReport(df_potok_1_2, tsmode=False, sortby=\"StartDateTimeUtc\", title=\"Pandas Profiling Report\")"
   ]
  },
  {
   "cell_type": "code",
   "execution_count": 43,
   "id": "74b80764",
   "metadata": {},
   "outputs": [
    {
     "data": {
      "application/vnd.jupyter.widget-view+json": {
       "model_id": "ceb319744a1d4455bcf70e5a8f8de46b",
       "version_major": 2,
       "version_minor": 0
      },
      "text/plain": [
       "Summarize dataset:   0%|          | 0/5 [00:00<?, ?it/s]"
      ]
     },
     "metadata": {},
     "output_type": "display_data"
    },
    {
     "data": {
      "application/vnd.jupyter.widget-view+json": {
       "model_id": "bb174f4ccd704697a579e22a07974062",
       "version_major": 2,
       "version_minor": 0
      },
      "text/plain": [
       "Generate report structure:   0%|          | 0/1 [00:00<?, ?it/s]"
      ]
     },
     "metadata": {},
     "output_type": "display_data"
    },
    {
     "data": {
      "application/vnd.jupyter.widget-view+json": {
       "model_id": "2c5869c5f8a14a888847251c734b7543",
       "version_major": 2,
       "version_minor": 0
      },
      "text/plain": [
       "Render HTML:   0%|          | 0/1 [00:00<?, ?it/s]"
      ]
     },
     "metadata": {},
     "output_type": "display_data"
    },
    {
     "data": {
      "application/vnd.jupyter.widget-view+json": {
       "model_id": "161ea947b72f47a597d041edec1fa9c9",
       "version_major": 2,
       "version_minor": 0
      },
      "text/plain": [
       "Export report to file:   0%|          | 0/1 [00:00<?, ?it/s]"
      ]
     },
     "metadata": {},
     "output_type": "display_data"
    }
   ],
   "source": [
    "profile.to_file(\"outputs/report_potok_1_2.html\")"
   ]
  },
  {
   "cell_type": "code",
   "execution_count": null,
   "id": "e2da9038",
   "metadata": {},
   "outputs": [],
   "source": []
  },
  {
   "cell_type": "markdown",
   "id": "230b0856",
   "metadata": {},
   "source": [
    "## Data Profiling dla potok_2-1"
   ]
  },
  {
   "cell_type": "code",
   "execution_count": 44,
   "id": "20c301d9",
   "metadata": {},
   "outputs": [],
   "source": [
    "df_potok_2_1 = df[df['Queue'] == \"potok_2-1\"]"
   ]
  },
  {
   "cell_type": "code",
   "execution_count": 45,
   "id": "e649bbe3",
   "metadata": {},
   "outputs": [],
   "source": [
    "profile = ProfileReport(df_potok_2_1, tsmode=False, sortby=\"StartDateTimeUtc\", title=\"Pandas Profiling Report\")"
   ]
  },
  {
   "cell_type": "code",
   "execution_count": 46,
   "id": "cb51570e",
   "metadata": {},
   "outputs": [
    {
     "data": {
      "application/vnd.jupyter.widget-view+json": {
       "model_id": "54c8b81369824fbfaeebe3a4fbe8bcbe",
       "version_major": 2,
       "version_minor": 0
      },
      "text/plain": [
       "Summarize dataset:   0%|          | 0/5 [00:00<?, ?it/s]"
      ]
     },
     "metadata": {},
     "output_type": "display_data"
    },
    {
     "data": {
      "application/vnd.jupyter.widget-view+json": {
       "model_id": "ad0b37137be84d7e91056185279063ca",
       "version_major": 2,
       "version_minor": 0
      },
      "text/plain": [
       "Generate report structure:   0%|          | 0/1 [00:00<?, ?it/s]"
      ]
     },
     "metadata": {},
     "output_type": "display_data"
    },
    {
     "data": {
      "application/vnd.jupyter.widget-view+json": {
       "model_id": "ced93474953d4a3b84677cf886d615dd",
       "version_major": 2,
       "version_minor": 0
      },
      "text/plain": [
       "Render HTML:   0%|          | 0/1 [00:00<?, ?it/s]"
      ]
     },
     "metadata": {},
     "output_type": "display_data"
    },
    {
     "data": {
      "application/vnd.jupyter.widget-view+json": {
       "model_id": "667ab18408b94084b71c57f24905b063",
       "version_major": 2,
       "version_minor": 0
      },
      "text/plain": [
       "Export report to file:   0%|          | 0/1 [00:00<?, ?it/s]"
      ]
     },
     "metadata": {},
     "output_type": "display_data"
    }
   ],
   "source": [
    "profile.to_file(\"outputs/report_potok_2_1.html\")"
   ]
  },
  {
   "cell_type": "markdown",
   "id": "92e2be4a",
   "metadata": {},
   "source": [
    "## Data Profiling dla potok_2-2"
   ]
  },
  {
   "cell_type": "code",
   "execution_count": 47,
   "id": "aca0d983",
   "metadata": {},
   "outputs": [],
   "source": [
    "df_potok_2_2 = df[df['Queue'] == \"potok_2-2\"]"
   ]
  },
  {
   "cell_type": "code",
   "execution_count": 48,
   "id": "1a7b777d",
   "metadata": {},
   "outputs": [],
   "source": [
    "profile = ProfileReport(df_potok_2_2, tsmode=False, sortby=\"StartDateTimeUtc\", title=\"Pandas Profiling Report\")"
   ]
  },
  {
   "cell_type": "code",
   "execution_count": 49,
   "id": "8be83fd7",
   "metadata": {},
   "outputs": [
    {
     "data": {
      "application/vnd.jupyter.widget-view+json": {
       "model_id": "d492271faa3b4545a4777c80920f12bb",
       "version_major": 2,
       "version_minor": 0
      },
      "text/plain": [
       "Summarize dataset:   0%|          | 0/5 [00:00<?, ?it/s]"
      ]
     },
     "metadata": {},
     "output_type": "display_data"
    },
    {
     "data": {
      "application/vnd.jupyter.widget-view+json": {
       "model_id": "4031bd8978d7425e91f23f606b134442",
       "version_major": 2,
       "version_minor": 0
      },
      "text/plain": [
       "Generate report structure:   0%|          | 0/1 [00:00<?, ?it/s]"
      ]
     },
     "metadata": {},
     "output_type": "display_data"
    },
    {
     "data": {
      "application/vnd.jupyter.widget-view+json": {
       "model_id": "7714e34e3ab14f31a911a5b3861438a1",
       "version_major": 2,
       "version_minor": 0
      },
      "text/plain": [
       "Render HTML:   0%|          | 0/1 [00:00<?, ?it/s]"
      ]
     },
     "metadata": {},
     "output_type": "display_data"
    },
    {
     "data": {
      "application/vnd.jupyter.widget-view+json": {
       "model_id": "54702497bf664019a19a8c8ce8cd17d2",
       "version_major": 2,
       "version_minor": 0
      },
      "text/plain": [
       "Export report to file:   0%|          | 0/1 [00:00<?, ?it/s]"
      ]
     },
     "metadata": {},
     "output_type": "display_data"
    }
   ],
   "source": [
    "profile.to_file(\"outputs/report_potok_2_2.html\")"
   ]
  },
  {
   "cell_type": "code",
   "execution_count": null,
   "id": "cbfa0a44",
   "metadata": {},
   "outputs": [],
   "source": []
  },
  {
   "cell_type": "markdown",
   "id": "9e7d87bb",
   "metadata": {},
   "source": [
    "## Data Profiling dla potok_3-1"
   ]
  },
  {
   "cell_type": "code",
   "execution_count": 50,
   "id": "e688c128",
   "metadata": {},
   "outputs": [],
   "source": [
    "df_potok_3_1 = df[df['Queue'] == \"potok_3-1\"]"
   ]
  },
  {
   "cell_type": "code",
   "execution_count": 51,
   "id": "4a2e5ec0",
   "metadata": {},
   "outputs": [],
   "source": [
    "profile = ProfileReport(df_potok_3_1, tsmode=False, sortby=\"StartDateTimeUtc\", title=\"Pandas Profiling Report\")"
   ]
  },
  {
   "cell_type": "code",
   "execution_count": 52,
   "id": "d97bf27b",
   "metadata": {},
   "outputs": [
    {
     "data": {
      "application/vnd.jupyter.widget-view+json": {
       "model_id": "d3b3f8127a3949deaee177c81ddbda62",
       "version_major": 2,
       "version_minor": 0
      },
      "text/plain": [
       "Summarize dataset:   0%|          | 0/5 [00:00<?, ?it/s]"
      ]
     },
     "metadata": {},
     "output_type": "display_data"
    },
    {
     "data": {
      "application/vnd.jupyter.widget-view+json": {
       "model_id": "b9c30ef83dfc4cc5a3d7caf833b7edd5",
       "version_major": 2,
       "version_minor": 0
      },
      "text/plain": [
       "Generate report structure:   0%|          | 0/1 [00:00<?, ?it/s]"
      ]
     },
     "metadata": {},
     "output_type": "display_data"
    },
    {
     "data": {
      "application/vnd.jupyter.widget-view+json": {
       "model_id": "7a0a561e5d4f4221b681cd661cf995fd",
       "version_major": 2,
       "version_minor": 0
      },
      "text/plain": [
       "Render HTML:   0%|          | 0/1 [00:00<?, ?it/s]"
      ]
     },
     "metadata": {},
     "output_type": "display_data"
    },
    {
     "data": {
      "application/vnd.jupyter.widget-view+json": {
       "model_id": "edb6ecf5653948e9a6ca67005bf479cd",
       "version_major": 2,
       "version_minor": 0
      },
      "text/plain": [
       "Export report to file:   0%|          | 0/1 [00:00<?, ?it/s]"
      ]
     },
     "metadata": {},
     "output_type": "display_data"
    }
   ],
   "source": [
    "profile.to_file(\"outputs/report_potok_3_1.html\")"
   ]
  },
  {
   "cell_type": "code",
   "execution_count": null,
   "id": "3942c35c",
   "metadata": {},
   "outputs": [],
   "source": []
  },
  {
   "cell_type": "markdown",
   "id": "f637dd60",
   "metadata": {},
   "source": [
    "## Data Profiling dla potok_3-2"
   ]
  },
  {
   "cell_type": "code",
   "execution_count": 53,
   "id": "6fe764ef",
   "metadata": {},
   "outputs": [],
   "source": [
    "df_potok_3_2 = df[df['Queue'] == \"potok_3-2\"]"
   ]
  },
  {
   "cell_type": "code",
   "execution_count": 54,
   "id": "479ae266",
   "metadata": {},
   "outputs": [],
   "source": [
    "profile = ProfileReport(df_potok_3_2, tsmode=False, sortby=\"StartDateTimeUtc\", title=\"Pandas Profiling Report\")"
   ]
  },
  {
   "cell_type": "code",
   "execution_count": 55,
   "id": "8f94449b",
   "metadata": {},
   "outputs": [
    {
     "data": {
      "application/vnd.jupyter.widget-view+json": {
       "model_id": "58d5d6c29ced465aae32cd781881d917",
       "version_major": 2,
       "version_minor": 0
      },
      "text/plain": [
       "Summarize dataset:   0%|          | 0/5 [00:00<?, ?it/s]"
      ]
     },
     "metadata": {},
     "output_type": "display_data"
    },
    {
     "data": {
      "application/vnd.jupyter.widget-view+json": {
       "model_id": "390edac59e654800b8f3d5b2d044ae53",
       "version_major": 2,
       "version_minor": 0
      },
      "text/plain": [
       "Generate report structure:   0%|          | 0/1 [00:00<?, ?it/s]"
      ]
     },
     "metadata": {},
     "output_type": "display_data"
    },
    {
     "data": {
      "application/vnd.jupyter.widget-view+json": {
       "model_id": "6b71790aae3547cf8bc02fb3e5890454",
       "version_major": 2,
       "version_minor": 0
      },
      "text/plain": [
       "Render HTML:   0%|          | 0/1 [00:00<?, ?it/s]"
      ]
     },
     "metadata": {},
     "output_type": "display_data"
    },
    {
     "data": {
      "application/vnd.jupyter.widget-view+json": {
       "model_id": "1d01c50324a54aec8162ee91ef85c9a7",
       "version_major": 2,
       "version_minor": 0
      },
      "text/plain": [
       "Export report to file:   0%|          | 0/1 [00:00<?, ?it/s]"
      ]
     },
     "metadata": {},
     "output_type": "display_data"
    }
   ],
   "source": [
    "profile.to_file(\"outputs/report_potok_3_2.html\")"
   ]
  },
  {
   "cell_type": "code",
   "execution_count": null,
   "id": "9e72fe9a",
   "metadata": {},
   "outputs": [],
   "source": []
  },
  {
   "cell_type": "markdown",
   "id": "048c022c",
   "metadata": {},
   "source": [
    "## Czy srednia Duration dla Potok 3-2 jest istotnie rozna miedzy okresami (tygodniami)? Jak tak to statystyki opisowe z \"normalnego\" okresu jako narzedzie monitorowania"
   ]
  },
  {
   "cell_type": "code",
   "execution_count": null,
   "id": "8516d562",
   "metadata": {},
   "outputs": [],
   "source": []
  }
 ],
 "metadata": {
  "kernelspec": {
   "display_name": "Python 3 (ipykernel)",
   "language": "python",
   "name": "python3"
  },
  "language_info": {
   "codemirror_mode": {
    "name": "ipython",
    "version": 3
   },
   "file_extension": ".py",
   "mimetype": "text/x-python",
   "name": "python",
   "nbconvert_exporter": "python",
   "pygments_lexer": "ipython3",
   "version": "3.9.3"
  }
 },
 "nbformat": 4,
 "nbformat_minor": 5
}
